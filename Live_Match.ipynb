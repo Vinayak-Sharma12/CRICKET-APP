{
  "nbformat": 4,
  "nbformat_minor": 0,
  "metadata": {
    "colab": {
      "provenance": [],
      "authorship_tag": "ABX9TyMiCSutDmvj8xDKmUg8CU13",
      "include_colab_link": true
    },
    "kernelspec": {
      "name": "python3",
      "display_name": "Python 3"
    },
    "language_info": {
      "name": "python"
    }
  },
  "cells": [
    {
      "cell_type": "markdown",
      "metadata": {
        "id": "view-in-github",
        "colab_type": "text"
      },
      "source": [
        "<a href=\"https://colab.research.google.com/github/Vinayak-Sharma12/CRICKET-APP/blob/main/Live_Match.ipynb\" target=\"_parent\"><img src=\"https://colab.research.google.com/assets/colab-badge.svg\" alt=\"Open In Colab\"/></a>"
      ]
    },
    {
      "cell_type": "markdown",
      "source": [
        "## **INSTALL IMPORTANT LIBRARIES**"
      ],
      "metadata": {
        "id": "uiSAQJQ4ZTNH"
      }
    },
    {
      "cell_type": "code",
      "source": [
        "!pip install requests\n",
        "!pip install cohere  #Used this llm cuz it have high api_key limit"
      ],
      "metadata": {
        "colab": {
          "base_uri": "https://localhost:8080/"
        },
        "id": "HnFf_ZH1xxcg",
        "outputId": "51cfc78e-2c51-40bc-c81b-dd4ea19c4908"
      },
      "execution_count": 380,
      "outputs": [
        {
          "output_type": "stream",
          "name": "stdout",
          "text": [
            "Requirement already satisfied: requests in /usr/local/lib/python3.11/dist-packages (2.32.3)\n",
            "Requirement already satisfied: charset-normalizer<4,>=2 in /usr/local/lib/python3.11/dist-packages (from requests) (3.4.1)\n",
            "Requirement already satisfied: idna<4,>=2.5 in /usr/local/lib/python3.11/dist-packages (from requests) (3.10)\n",
            "Requirement already satisfied: urllib3<3,>=1.21.1 in /usr/local/lib/python3.11/dist-packages (from requests) (2.3.0)\n",
            "Requirement already satisfied: certifi>=2017.4.17 in /usr/local/lib/python3.11/dist-packages (from requests) (2025.1.31)\n",
            "Requirement already satisfied: cohere in /usr/local/lib/python3.11/dist-packages (5.13.12)\n",
            "Requirement already satisfied: fastavro<2.0.0,>=1.9.4 in /usr/local/lib/python3.11/dist-packages (from cohere) (1.10.0)\n",
            "Requirement already satisfied: httpx>=0.21.2 in /usr/local/lib/python3.11/dist-packages (from cohere) (0.28.1)\n",
            "Requirement already satisfied: httpx-sse==0.4.0 in /usr/local/lib/python3.11/dist-packages (from cohere) (0.4.0)\n",
            "Requirement already satisfied: pydantic>=1.9.2 in /usr/local/lib/python3.11/dist-packages (from cohere) (2.10.6)\n",
            "Requirement already satisfied: pydantic-core<3.0.0,>=2.18.2 in /usr/local/lib/python3.11/dist-packages (from cohere) (2.27.2)\n",
            "Requirement already satisfied: requests<3.0.0,>=2.0.0 in /usr/local/lib/python3.11/dist-packages (from cohere) (2.32.3)\n",
            "Requirement already satisfied: tokenizers<1,>=0.15 in /usr/local/lib/python3.11/dist-packages (from cohere) (0.21.0)\n",
            "Requirement already satisfied: types-requests<3.0.0,>=2.0.0 in /usr/local/lib/python3.11/dist-packages (from cohere) (2.32.0.20241016)\n",
            "Requirement already satisfied: typing_extensions>=4.0.0 in /usr/local/lib/python3.11/dist-packages (from cohere) (4.12.2)\n",
            "Requirement already satisfied: anyio in /usr/local/lib/python3.11/dist-packages (from httpx>=0.21.2->cohere) (3.7.1)\n",
            "Requirement already satisfied: certifi in /usr/local/lib/python3.11/dist-packages (from httpx>=0.21.2->cohere) (2025.1.31)\n",
            "Requirement already satisfied: httpcore==1.* in /usr/local/lib/python3.11/dist-packages (from httpx>=0.21.2->cohere) (1.0.7)\n",
            "Requirement already satisfied: idna in /usr/local/lib/python3.11/dist-packages (from httpx>=0.21.2->cohere) (3.10)\n",
            "Requirement already satisfied: h11<0.15,>=0.13 in /usr/local/lib/python3.11/dist-packages (from httpcore==1.*->httpx>=0.21.2->cohere) (0.14.0)\n",
            "Requirement already satisfied: annotated-types>=0.6.0 in /usr/local/lib/python3.11/dist-packages (from pydantic>=1.9.2->cohere) (0.7.0)\n",
            "Requirement already satisfied: charset-normalizer<4,>=2 in /usr/local/lib/python3.11/dist-packages (from requests<3.0.0,>=2.0.0->cohere) (3.4.1)\n",
            "Requirement already satisfied: urllib3<3,>=1.21.1 in /usr/local/lib/python3.11/dist-packages (from requests<3.0.0,>=2.0.0->cohere) (2.3.0)\n",
            "Requirement already satisfied: huggingface-hub<1.0,>=0.16.4 in /usr/local/lib/python3.11/dist-packages (from tokenizers<1,>=0.15->cohere) (0.28.1)\n",
            "Requirement already satisfied: filelock in /usr/local/lib/python3.11/dist-packages (from huggingface-hub<1.0,>=0.16.4->tokenizers<1,>=0.15->cohere) (3.17.0)\n",
            "Requirement already satisfied: fsspec>=2023.5.0 in /usr/local/lib/python3.11/dist-packages (from huggingface-hub<1.0,>=0.16.4->tokenizers<1,>=0.15->cohere) (2024.10.0)\n",
            "Requirement already satisfied: packaging>=20.9 in /usr/local/lib/python3.11/dist-packages (from huggingface-hub<1.0,>=0.16.4->tokenizers<1,>=0.15->cohere) (24.2)\n",
            "Requirement already satisfied: pyyaml>=5.1 in /usr/local/lib/python3.11/dist-packages (from huggingface-hub<1.0,>=0.16.4->tokenizers<1,>=0.15->cohere) (6.0.2)\n",
            "Requirement already satisfied: tqdm>=4.42.1 in /usr/local/lib/python3.11/dist-packages (from huggingface-hub<1.0,>=0.16.4->tokenizers<1,>=0.15->cohere) (4.67.1)\n",
            "Requirement already satisfied: sniffio>=1.1 in /usr/local/lib/python3.11/dist-packages (from anyio->httpx>=0.21.2->cohere) (1.3.1)\n"
          ]
        }
      ]
    },
    {
      "cell_type": "markdown",
      "source": [
        "## **CONNECTING WITH APIS**"
      ],
      "metadata": {
        "id": "XoSFdsweZioF"
      }
    },
    {
      "cell_type": "markdown",
      "source": [
        "Connecting api with match details and fixture"
      ],
      "metadata": {
        "id": "N6kjJxMjZpOe"
      }
    },
    {
      "cell_type": "code",
      "execution_count": 461,
      "metadata": {
        "colab": {
          "base_uri": "https://localhost:8080/"
        },
        "id": "HzYZu0YswBwX",
        "outputId": "a41b1858-f407-4613-87cb-82e44bf0ccc9"
      },
      "outputs": [
        {
          "output_type": "stream",
          "name": "stdout",
          "text": [
            "{'apikey': '9b14f407-06dc-46a2-9c8e-a3d0d261e396', 'data': [{'id': '1f0d678c-8663-45ba-a4d9-db0d7db94a42', 'name': 'Pakistan vs New Zealand, 1st Match, Group A', 'matchType': 'odi', 'status': 'New Zealand won by 60 runs', 'venue': 'National Stadium, Karachi', 'date': '2025-02-19', 'dateTimeGMT': '2025-02-19T09:00:00', 'teams': ['Pakistan', 'New Zealand'], 'score': [{'r': 320, 'w': 5, 'o': 50, 'inning': 'New Zealand Inning 1'}, {'r': 260, 'w': 10, 'o': 47.2, 'inning': 'Pakistan Inning 1'}], 'series_id': '49fc7a37-da67-435e-bf5f-00da233e9ff4', 'fantasyEnabled': True, 'bbbEnabled': True, 'hasSquad': True, 'matchStarted': True, 'matchEnded': True}, {'id': '4f639d53-776e-4faa-b4aa-16c239529219', 'name': 'Indonesia vs Bahrain, 1st T20I', 'matchType': 't20', 'status': 'Bahrain won by 63 runs', 'venue': 'Udayana Cricket Ground, Bali', 'date': '2025-02-19', 'dateTimeGMT': '2025-02-19T00:30:00', 'teams': ['Indonesia', 'Bahrain'], 'score': [{'r': 156, 'w': 6, 'o': 20, 'inning': 'Bahrain Inning 1'}, {'r': 93, 'w': 10, 'o': 19.2, 'inning': 'Indonesia Inning 1'}], 'series_id': '4be27620-cfcc-4aca-a390-5a4dc5c1ff51', 'fantasyEnabled': True, 'bbbEnabled': True, 'hasSquad': True, 'matchStarted': True, 'matchEnded': True}, {'id': 'ba424581-23ef-4909-82bd-cab25207b788', 'name': 'Oman vs United States of America, 54th Match', 'matchType': 'odi', 'status': 'United States of America won by 57 runs', 'venue': 'Al Amerat Cricket Ground (Ministry Turf 1), Al Amerat', 'date': '2025-02-18', 'dateTimeGMT': '2025-02-18T06:00:00', 'teams': ['Oman', 'United States of America'], 'score': [{'r': 122, 'w': 10, 'o': 35.3, 'inning': 'United States of America Inning 1'}, {'r': 65, 'w': 10, 'o': 25.3, 'inning': 'Oman Inning 1'}], 'series_id': '9b836620-68cb-4798-9647-d479aa871b76', 'fantasyEnabled': True, 'bbbEnabled': True, 'hasSquad': True, 'matchStarted': True, 'matchEnded': True}, {'id': '64e18486-6151-4976-9311-61c8b1efd47f', 'name': 'UP Warriorz Women vs Delhi Capitals Women, 6th Match', 'matchType': 't20', 'status': 'Delhi Capitals Women won by 7 wkts', 'venue': 'Kotambi Stadium, Vadodara', 'date': '2025-02-19', 'dateTimeGMT': '2025-02-19T14:00:00', 'teams': ['UP Warriorz Women', 'Delhi Capitals Women'], 'score': [{'r': 166, 'w': 7, 'o': 20, 'inning': 'UP Warriorz Women Inning 1'}, {'r': 167, 'w': 3, 'o': 19.5, 'inning': 'Delhi Capitals Women Inning 1'}], 'series_id': 'bedf8bb2-7a5b-4812-bd50-2ce0a468ffb9', 'fantasyEnabled': True, 'bbbEnabled': True, 'hasSquad': True, 'matchStarted': True, 'matchEnded': True}, {'id': '14f7e249-7353-44a5-9e79-fd6caf60556d', 'name': 'Gujarat Giants Women vs Mumbai Indians Women, 5th Match', 'matchType': 't20', 'status': 'Mumbai Indians Women won by 5 wkts', 'venue': 'Kotambi Stadium, Vadodara', 'date': '2025-02-18', 'dateTimeGMT': '2025-02-18T14:00:00', 'teams': ['Gujarat Giants Women', 'Mumbai Indians Women'], 'score': [{'r': 120, 'w': 10, 'o': 20, 'inning': 'Gujarat Giants Women Inning 1'}, {'r': 122, 'w': 5, 'o': 16.1, 'inning': 'Mumbai Indians Women Inning 1'}], 'series_id': 'bedf8bb2-7a5b-4812-bd50-2ce0a468ffb9', 'fantasyEnabled': True, 'bbbEnabled': True, 'hasSquad': True, 'matchStarted': True, 'matchEnded': True}, {'id': '7aab6c41-5a94-4752-b8e9-349c8d845f3b', 'name': 'Zimbabwe vs Ireland, 3rd ODI', 'matchType': 'odi', 'status': 'Zimbabwe won by 9 wkts', 'venue': 'Harare Sports Club, Harare', 'date': '2025-02-18', 'dateTimeGMT': '2025-02-18T07:30:00', 'teams': ['Zimbabwe', 'Ireland'], 'score': [{'r': 240, 'w': 6, 'o': 50, 'inning': 'Ireland Inning 1'}, {'r': 246, 'w': 1, 'o': 39.3, 'inning': 'Zimbabwe Inning 1'}], 'series_id': '4c530671-8319-4805-b05b-665ac32d7577', 'fantasyEnabled': True, 'bbbEnabled': True, 'hasSquad': True, 'matchStarted': True, 'matchEnded': True}, {'id': '21b0262e-d15d-4808-a9e4-28cf927199c8', 'name': 'Canterbury vs Central Districts, 26th Match', 'matchType': 't20', 'status': 'No Result - due to rain', 'venue': 'Hagley Oval, Christchurch', 'date': '2025-01-26', 'dateTimeGMT': '2025-01-26T05:25:00', 'teams': ['Canterbury', 'Central Districts'], 'score': [{'r': 45, 'w': 6, 'o': 11, 'inning': 'Central Districts Inning 1'}], 'series_id': '0c19f96e-19a4-4b9e-af07-18645ab4970c', 'fantasyEnabled': True, 'bbbEnabled': True, 'hasSquad': True, 'matchStarted': True, 'matchEnded': False}, {'id': '4de664c7-f841-4b9c-8f37-cf2ce957b9ce', 'name': 'Wellington vs Auckland, 25th Match', 'matchType': 'odi', 'status': 'Wellington won by 7 wkts - 31 over game - due to rain', 'venue': 'Basin Reserve, Wellington', 'date': '2025-02-17', 'dateTimeGMT': '2025-02-17T21:30:00', 'teams': ['Wellington', 'Auckland'], 'teamInfo': [{'name': 'Auckland', 'shortname': 'AKL', 'img': 'https://g.cricapi.com/iapi/5-637993557414710285.webp?w=48'}, {'name': 'Wellington', 'shortname': 'WEL', 'img': 'https://g.cricapi.com/iapi/99-637987556014883021.webp?w=48'}], 'score': [{'r': 194, 'w': 6, 'o': 31, 'inning': 'Auckland Inning 1'}, {'r': 198, 'w': 3, 'o': 30.5, 'inning': 'Wellington Inning 1'}], 'series_id': '561215e0-b461-4a82-8cfb-c8ca6b04d3cc', 'fantasyEnabled': True, 'bbbEnabled': True, 'hasSquad': True, 'matchStarted': True, 'matchEnded': True}, {'id': 'f3de4e29-9c77-4093-9f81-ef9ab64107e1', 'name': 'Northern Knights vs Canterbury, 26th Match', 'matchType': 'odi', 'status': 'Canterbury won by 3 wkts - 39 over game - due to rain', 'venue': 'Seddon Park, Hamilton', 'date': '2025-02-17', 'dateTimeGMT': '2025-02-17T21:30:00', 'teams': ['Northern Knights', 'Canterbury'], 'teamInfo': [{'name': 'Canterbury', 'shortname': 'CAN', 'img': 'https://g.cricapi.com/iapi/15-637993523929449827.webp?w=48'}, {'name': 'Northern Knights', 'shortname': 'NK', 'img': 'https://g.cricapi.com/iapi/62-637992668006396208.webp?w=48'}], 'score': [{'r': 262, 'w': 5, 'o': 39, 'inning': 'Northern Knights Inning 1'}, {'r': 263, 'w': 7, 'o': 37.1, 'inning': 'Canterbury Inning 1'}], 'series_id': '561215e0-b461-4a82-8cfb-c8ca6b04d3cc', 'fantasyEnabled': True, 'bbbEnabled': True, 'hasSquad': True, 'matchStarted': True, 'matchEnded': True}, {'id': 'd52a4d42-c53e-4f25-b0fe-33df2282d7cc', 'name': 'Central Districts vs Otago, 27th Match', 'matchType': 'odi', 'status': 'Otago won by 5 wkts', 'venue': 'McLean Park, Napier', 'date': '2025-02-17', 'dateTimeGMT': '2025-02-17T21:30:00', 'teams': ['Central Districts', 'Otago'], 'teamInfo': [{'name': 'Central Districts', 'shortname': 'CD', 'img': 'https://g.cricapi.com/iapi/16-637993517837161031.webp?w=48'}, {'name': 'Otago', 'shortname': 'OTG', 'img': 'https://g.cricapi.com/iapi/65-637992667637799448.webp?w=48'}], 'score': [{'r': 162, 'w': 10, 'o': 45.4, 'inning': 'Central Districts Inning 1'}, {'r': 164, 'w': 5, 'o': 29.5, 'inning': 'Otago Inning 1'}], 'series_id': '561215e0-b461-4a82-8cfb-c8ca6b04d3cc', 'fantasyEnabled': True, 'bbbEnabled': True, 'hasSquad': True, 'matchStarted': True, 'matchEnded': True}, {'id': '9e2471a2-25fc-4868-a482-6ac2c1ce876b', 'name': 'Mpumalanga Rhinos vs South Western Districts, 5th Match', 'matchType': 'odi', 'status': 'Mpumalanga Rhinos won by 6 wkts', 'venue': 'Recreation Ground, Oudtshoorn', 'date': '2025-02-19', 'dateTimeGMT': '2025-02-19T08:00:00', 'teams': ['Mpumalanga Rhinos', 'South Western Districts'], 'teamInfo': [{'name': 'Mpumalanga Rhinos', 'shortname': 'MPR', 'img': 'https://g.cricapi.com/iapi/49-637991993271802283.webp?w=48'}, {'name': 'South Western Districts', 'shortname': 'SWD', 'img': 'https://g.cricapi.com/iapi/85-637993498736049006.webp?w=48'}], 'score': [{'r': 261, 'w': 7, 'o': 50, 'inning': 'South Western Districts Inning 1'}, {'r': 265, 'w': 4, 'o': 44.1, 'inning': 'Mpumalanga Rhinos Inning 1'}], 'series_id': '03532633-c83b-401a-aecb-99da710ae4fd', 'fantasyEnabled': True, 'bbbEnabled': False, 'hasSquad': True, 'matchStarted': True, 'matchEnded': True}, {'id': '9eb2fdf8-e7f0-4b71-9931-70db4d9c06f1', 'name': 'Northern Cape vs South Africa Emerging Players, 7th Match', 'matchType': 'odi', 'status': 'Northern Cape won by 5 wkts (2nd innings reduced to 36 ovs due to rain, DLS target 118)', 'venue': 'Diamond Oval, Kimberley', 'date': '2025-02-19', 'dateTimeGMT': '2025-02-19T08:00:00', 'teams': ['Northern Cape', 'South Africa Emerging Players'], 'teamInfo': [{'name': 'Northern Cape', 'shortname': 'NCAPE', 'img': 'https://g.cricapi.com/iapi/61-637991981464151764.webp?w=48'}, {'name': 'South Africa Emerging Players', 'shortname': 'SA', 'img': 'https://g.cricapi.com/iapi/273-637877069629067075.webp?w=48'}], 'score': [{'r': 131, 'w': 10, 'o': 41.1, 'inning': 'South Africa Emerging Players Inning 1'}, {'r': 119, 'w': 5, 'o': 25.5, 'inning': 'Northern Cape Inning 1'}], 'series_id': '03532633-c83b-401a-aecb-99da710ae4fd', 'fantasyEnabled': True, 'bbbEnabled': False, 'hasSquad': True, 'matchStarted': True, 'matchEnded': True}, {'id': '8173604b-c5e9-4b73-9741-7d1ec63f0f07', 'name': 'Boland vs Dolphins, 5th Match', 'matchType': 'odi', 'status': 'Innings Break', 'venue': 'Boland Park, Paarl', 'date': '2025-02-19', 'dateTimeGMT': '2025-02-19T11:00:00', 'teams': ['Boland', 'Dolphins'], 'teamInfo': [{'name': 'Boland', 'shortname': 'BL', 'img': 'https://h.cricapi.com/img/icon512.png'}, {'name': 'Dolphins', 'shortname': 'DOL', 'img': 'https://g.cricapi.com/iapi/20-637993514627926036.webp?w=48'}], 'score': [{'r': 174, 'w': 10, 'o': 49.4, 'inning': 'Dolphins Inning 1'}], 'series_id': 'c459a046-6e27-4499-8ee8-1915f783cf38', 'fantasyEnabled': True, 'bbbEnabled': False, 'hasSquad': True, 'matchStarted': True, 'matchEnded': False}, {'id': 'b5b45593-4edf-4ec4-8610-b8f4fe049831', 'name': 'Western Province vs North West, 6th Match', 'matchType': 'odi', 'status': 'Western Province won by 7 wkts', 'venue': 'Newlands, Cape Town', 'date': '2025-02-19', 'dateTimeGMT': '2025-02-19T11:00:00', 'teams': ['Western Province', 'North West'], 'teamInfo': [{'name': 'North West', 'shortname': 'NWEST', 'img': 'https://g.cricapi.com/iapi/60-637991981808951763.webp?w=48'}, {'name': 'Western Province', 'shortname': 'WPR', 'img': 'https://g.cricapi.com/iapi/104-637987555401464222.webp?w=48'}], 'score': [{'r': 145, 'w': 10, 'o': 38.2, 'inning': 'North West Inning 1'}, {'r': 146, 'w': 3, 'o': 23, 'inning': 'Western Province Inning 1'}], 'series_id': 'c459a046-6e27-4499-8ee8-1915f783cf38', 'fantasyEnabled': True, 'bbbEnabled': False, 'hasSquad': True, 'matchStarted': True, 'matchEnded': True}, {'id': '510fb5c0-8f0c-4282-8e39-7ec6ae9f24dc', 'name': 'Knights vs Warriors, 7th Match', 'matchType': 'odi', 'status': 'Rain stops play - Warriors need 241 runs', 'venue': 'Mangaung Oval, Bloemfontein', 'date': '2025-02-19', 'dateTimeGMT': '2025-02-19T11:00:00', 'teams': ['Knights', 'Warriors'], 'teamInfo': [{'name': 'Knights', 'shortname': 'KNG', 'img': 'https://g.cricapi.com/iapi/40-637992688759741358.webp?w=48'}, {'name': 'Warriors', 'shortname': 'WAR', 'img': 'https://g.cricapi.com/iapi/98-637987556857963180.webp?w=48'}], 'score': [{'r': 247, 'w': 7, 'o': 50, 'inning': 'Knights Inning 1'}, {'r': 7, 'w': 1, 'o': 5, 'inning': 'Warriors Inning 1'}], 'series_id': 'c459a046-6e27-4499-8ee8-1915f783cf38', 'fantasyEnabled': True, 'bbbEnabled': False, 'hasSquad': True, 'matchStarted': True, 'matchEnded': False}, {'id': '1878da78-34c3-4acb-a34b-030a54c7a2a7', 'name': 'South Australia vs Tasmania, 24th Match', 'matchType': 'test', 'status': 'Day 2: Stumps - South Australia lead by 264 runs', 'venue': 'Adelaide Oval, Adelaide', 'date': '2025-02-18', 'dateTimeGMT': '2025-02-18T00:00:00', 'teams': ['South Australia', 'Tasmania'], 'teamInfo': [{'name': 'South Australia', 'shortname': 'SAUS', 'img': 'https://g.cricapi.com/iapi/84-637993500332119314.webp?w=48'}, {'name': 'Tasmania', 'shortname': 'TAS', 'img': 'https://g.cricapi.com/iapi/88-637987559070396403.webp?w=48'}], 'score': [{'r': 93, 'w': 10, 'o': 47.2, 'inning': 'South Australia Inning 1'}, {'r': 101, 'w': 10, 'o': 33.4, 'inning': 'Tasmania Inning 1'}, {'r': 272, 'w': 6, 'o': 100, 'inning': 'South Australia Inning 2'}], 'series_id': '0a25b3fb-3fc9-4c22-b11b-a30defda74f2', 'fantasyEnabled': True, 'bbbEnabled': False, 'hasSquad': True, 'matchStarted': True, 'matchEnded': False}, {'id': '12a48113-4746-4a38-8ce3-c0a77364c0b4', 'name': 'Queensland vs Western Australia, 23rd Match', 'matchType': 'test', 'status': 'Day 2: Stumps - Queensland trail by 126 runs', 'venue': 'The Gabba, Brisbane', 'date': '2025-02-18', 'dateTimeGMT': '2025-02-18T00:00:00', 'teams': ['Queensland', 'Western Australia'], 'teamInfo': [{'name': 'Queensland', 'shortname': 'QL', 'img': 'https://g.cricapi.com/iapi/73-637992667453177840.webp?w=48'}, {'name': 'Western Australia', 'shortname': 'WA', 'img': 'https://g.cricapi.com/iapi/103-637987555730367982.webp?w=48'}], 'score': [{'r': 147, 'w': 10, 'o': 53.4, 'inning': 'Queensland Inning 1'}, {'r': 312, 'w': 10, 'o': 114, 'inning': 'Western Australia Inning 1'}, {'r': 39, 'w': 1, 'o': 15, 'inning': 'Queensland Inning 2'}], 'series_id': '0a25b3fb-3fc9-4c22-b11b-a30defda74f2', 'fantasyEnabled': True, 'bbbEnabled': False, 'hasSquad': True, 'matchStarted': True, 'matchEnded': False}, {'id': '4a8de14d-99df-4884-b2cb-a41320e18593', 'name': 'New South Wales vs Victoria, 22nd Match', 'matchType': 'test', 'status': 'Day 2: Stumps - New South Wales lead by 190 runs', 'venue': 'Sydney Cricket Ground, Sydney', 'date': '2025-02-17', 'dateTimeGMT': '2025-02-17T23:30:00', 'teams': ['New South Wales', 'Victoria'], 'teamInfo': [{'name': 'New South Wales', 'shortname': 'NSW', 'img': 'https://g.cricapi.com/iapi/56-637991992698313262.webp?w=48'}, {'name': 'Victoria', 'shortname': 'VIC', 'img': 'https://g.cricapi.com/iapi/96-637987557199223762.webp?w=48'}], 'score': [{'r': 238, 'w': 10, 'o': 65.2, 'inning': 'New South Wales Inning 1'}, {'r': 182, 'w': 10, 'o': 60.1, 'inning': 'Victoria Inning 1'}, {'r': 134, 'w': 4, 'o': 51, 'inning': 'New South Wales Inning 2'}], 'series_id': '0a25b3fb-3fc9-4c22-b11b-a30defda74f2', 'fantasyEnabled': True, 'bbbEnabled': False, 'hasSquad': True, 'matchStarted': True, 'matchEnded': False}, {'id': 'd16ba290-31c4-48b7-964f-bc86f4e6d53a', 'name': 'Vidarbha vs Mumbai, Semi Final 2 (QF2 v QF3)', 'matchType': 'test', 'status': 'Day 3: Stumps - Vidarbha lead by 260 runs', 'venue': 'Vidarbha Cricket Association Stadium, Nagpur', 'date': '2025-02-17', 'dateTimeGMT': '2025-02-17T04:00:00', 'teams': ['Vidarbha', 'Mumbai'], 'teamInfo': [{'name': 'Mumbai', 'shortname': 'MUM', 'img': 'https://g.cricapi.com/iapi/51-637897800490404099.png?w=48'}, {'name': 'Vidarbha', 'shortname': 'VID', 'img': 'https://g.cricapi.com/iapi/97-637897807024164117.png?w=48'}], 'score': [{'r': 383, 'w': 10, 'o': 107.5, 'inning': 'Vidarbha Inning 1'}, {'r': 270, 'w': 10, 'o': 92, 'inning': 'Mumbai Inning 1'}, {'r': 147, 'w': 4, 'o': 53, 'inning': 'Vidarbha Inning 2'}], 'series_id': '058f5196-a61e-4b77-bbb8-e87a8d57712d', 'fantasyEnabled': False, 'bbbEnabled': False, 'hasSquad': True, 'matchStarted': True, 'matchEnded': False}, {'id': 'f25667ed-ffb5-4ee1-bcc8-206bac2c51c3', 'name': 'Gujarat vs Kerala, Semi Final 1 (QF1 v QF4)', 'matchType': 'test', 'status': 'Day 3: Stumps - Gujarat trail by 235 runs', 'venue': 'Narendra Modi Stadium A Ground, Ahmedabad', 'date': '2025-02-17', 'dateTimeGMT': '2025-02-17T04:00:00', 'teams': ['Gujarat', 'Kerala'], 'teamInfo': [{'name': 'Gujarat', 'shortname': 'GUJ', 'img': 'https://g.cricapi.com/iapi/27-637897792592204662.png?w=48'}, {'name': 'Kerala', 'shortname': 'KER', 'img': 'https://g.cricapi.com/iapi/39-637897797224429950.png?w=48'}], 'score': [{'r': 457, 'w': 10, 'o': 187, 'inning': 'Kerala Inning 1'}, {'r': 222, 'w': 1, 'o': 71, 'inning': 'Gujarat Inning 1'}], 'series_id': '058f5196-a61e-4b77-bbb8-e87a8d57712d', 'fantasyEnabled': True, 'bbbEnabled': False, 'hasSquad': True, 'matchStarted': True, 'matchEnded': False}], 'status': 'success', 'info': {'hitsToday': 36, 'hitsUsed': 1, 'hitsLimit': 100, 'credits': 0, 'server': 21, 'offsetRows': 0, 'totalRows': 20, 'queryTime': 80.5288, 's': 0, 'cache': 0}}\n"
          ]
        }
      ],
      "source": [
        "import requests\n",
        "\n",
        "api_key = \"9b14f407-06dc-46a2-9c8e-a3d0d261e396\"\n",
        "headers = {\"Authorization\": f\"Bearer {api_key}\"}\n",
        "url = \"https://api.cricapi.com/v1/currentMatches?apikey=9b14f407-06dc-46a2-9c8e-a3d0d261e396&offset=0\"\n",
        "\n",
        "response = requests.get(url, headers=headers)\n",
        "\n",
        "if response.status_code == 200:\n",
        "    print(response.json())\n",
        "else:\n",
        "    print(\"Authentication failed!\")\n",
        "matches=response.json()"
      ]
    },
    {
      "cell_type": "markdown",
      "source": [
        "Connecting api with live match details like scorecard"
      ],
      "metadata": {
        "id": "Y1ZJBtxiZt7I"
      }
    },
    {
      "cell_type": "code",
      "source": [
        "import requests\n",
        "\n",
        "api_key = \"9b14f407-06dc-46a2-9c8e-a3d0d261e396\"\n",
        "headers = {\"Authorization\": f\"Bearer {api_key}\"}\n",
        "url = \"https://api.cricapi.com/v1/match_scorecard?apikey=9b14f407-06dc-46a2-9c8e-a3d0d261e396&id=1f0d678c-8663-45ba-a4d9-db0d7db94a42\"\n",
        "\n",
        "response = requests.get(url, headers=headers)\n",
        "\n",
        "if response.status_code == 200:\n",
        "    print(response.json())\n",
        "else:\n",
        "    print(\"Authentication failed!\")\n",
        "scorecard=response.json()"
      ],
      "metadata": {
        "colab": {
          "base_uri": "https://localhost:8080/"
        },
        "id": "EOHLmmOEZRxj",
        "outputId": "664d2134-9e3c-4219-8553-f1c763f18c67"
      },
      "execution_count": 491,
      "outputs": [
        {
          "output_type": "stream",
          "name": "stdout",
          "text": [
            "{'apikey': '9b14f407-06dc-46a2-9c8e-a3d0d261e396', 'data': {'id': '1f0d678c-8663-45ba-a4d9-db0d7db94a42', 'name': 'Pakistan vs New Zealand, 1st Match, Group A', 'matchType': 'odi', 'status': 'New Zealand won by 60 runs', 'venue': 'National Stadium, Karachi', 'date': '2025-02-19', 'dateTimeGMT': '2025-02-19T09:00:00', 'teams': ['Pakistan', 'New Zealand'], 'score': [{'r': 320, 'w': 5, 'o': 50, 'inning': 'New Zealand Inning 1'}, {'r': 260, 'w': 10, 'o': 47.2, 'inning': 'Pakistan Inning 1'}], 'tossWinner': 'Pakistan', 'tossChoice': 'bowl', 'matchWinner': 'New Zealand', 'series_id': '49fc7a37-da67-435e-bf5f-00da233e9ff4', 'scorecard': [{'batting': [{'batsman': {'id': '76f0901e-dc58-4641-a31a-f041a6b165c9', 'name': 'Will Young'}, 'dismissal': 'catch', 'bowler': {'id': 'a93dcc2b-b51a-47d1-85fc-e29d331d029d', 'name': 'Naseem Shah'}, 'catcher': {'id': '0c996751-9b83-4a46-81ac-c9d7304f58c7', 'name': 'Faheem Ashraf'}, 'dismissal-text': 'c faheem ashraf b naseem shah', 'r': 107, 'b': 113, '4s': 12, '6s': 1, 'sr': 94.69, '': 0}, {'batsman': {'id': 'eac0032b-055a-497b-9d4e-f54008414515', 'name': 'Devon Conway'}, 'dismissal': 'bowled', 'bowler': {'id': '0b2537e2-1819-42ea-8e45-f8691fd47cc6', 'name': 'Abrar Ahmed'}, 'dismissal-text': 'b abrar ahmed', 'r': 10, 'b': 17, '4s': 2, '6s': 0, 'sr': 58.82, '': 0}, {'batsman': {'id': 'a46cfa8b-96ae-4fb1-9499-65b8ce7e9634', 'name': 'Kane Williamson'}, 'dismissal': 'catch', 'bowler': {'id': 'a93dcc2b-b51a-47d1-85fc-e29d331d029d', 'name': 'Naseem Shah'}, 'catcher': {'id': '78b310fd-7403-4abf-83e4-8ac8357be790', 'name': 'Mohammad Rizwan'}, 'dismissal-text': 'c rizwan b naseem shah', 'r': 1, 'b': 2, '4s': 0, '6s': 0, 'sr': 50, '': 0}, {'batsman': {'id': 'f75212f8-37fb-4cf0-8f37-d681b4cb66b2', 'name': 'Daryl Mitchell'}, 'dismissal': 'catch', 'bowler': {'id': 'f54c649a-71a1-4f95-80d0-59e0087b4493', 'name': 'Haris Rauf'}, 'catcher': {'id': 'df7bffbc-02e6-41ef-8049-fd256c850fe8', 'name': 'Shaheen Afridi'}, 'dismissal-text': 'c shaheen afridi b haris rauf', 'r': 10, 'b': 24, '4s': 0, '6s': 0, 'sr': 41.67, '': 0}, {'batsman': {'id': '05811a99-09ae-451e-8aa5-ec8cf0fa1aab', 'name': 'Tom Latham'}, 'dismissal-text': 'not out', 'r': 118, 'b': 104, '4s': 10, '6s': 3, 'sr': 113.46, '': 0}, {'batsman': {'id': '9e6fa482-3ad3-4831-b05d-4fed2510cdf5', 'name': 'Glenn Phillips'}, 'dismissal': 'catch', 'bowler': {'id': 'f54c649a-71a1-4f95-80d0-59e0087b4493', 'name': 'Haris Rauf'}, 'catcher': {'id': '52bd987e-45af-4ced-a617-0916664f73a7', 'name': 'Fakhar Zaman'}, 'dismissal-text': 'c fakhar zaman b haris rauf', 'r': 61, 'b': 39, '4s': 3, '6s': 4, 'sr': 156.41, '': 0}, {'batsman': {'id': 'f059d7fe-16dc-4065-bcfc-51decb09e58d', 'name': 'Michael Bracewell', 'altnames': ['m bracewell']}, 'dismissal-text': 'not out', 'r': 0, 'b': 1, '4s': 0, '6s': 0, 'sr': 0, '': 0}], 'bowling': [{'bowler': {'id': 'df7bffbc-02e6-41ef-8049-fd256c850fe8', 'name': 'Shaheen Afridi'}, 'o': 10, 'm': 0, 'r': 68, 'w': 0, 'nb': 0, 'wd': 2, 'eco': 6.8}, {'bowler': {'id': 'a93dcc2b-b51a-47d1-85fc-e29d331d029d', 'name': 'Naseem Shah'}, 'o': 10, 'm': 0, 'r': 63, 'w': 2, 'nb': 0, 'wd': 0, 'eco': 6.3}, {'bowler': {'id': '0b2537e2-1819-42ea-8e45-f8691fd47cc6', 'name': 'Abrar Ahmed'}, 'o': 10, 'm': 0, 'r': 47, 'w': 1, 'nb': 0, 'wd': 1, 'eco': 4.7}, {'bowler': {'id': 'f54c649a-71a1-4f95-80d0-59e0087b4493', 'name': 'Haris Rauf'}, 'o': 10, 'm': 0, 'r': 83, 'w': 2, 'nb': 0, 'wd': 6, 'eco': 8.3}, {'bowler': {'id': '92ed0d96-e2cc-47b6-8500-4c8aa2e0468a', 'name': 'Khushdil Shah', 'altnames': ['Khushdil']}, 'o': 7, 'm': 0, 'r': 40, 'w': 0, 'nb': 0, 'wd': 0, 'eco': 5.7}, {'bowler': {'id': 'e3ad4212-a06b-4d0d-9537-c8bc285d3ed2', 'name': 'Salman Agha'}, 'o': 3, 'm': 0, 'r': 15, 'w': 0, 'nb': 0, 'wd': 0, 'eco': 5}], 'catching': [{'catcher': {'id': '0c996751-9b83-4a46-81ac-c9d7304f58c7', 'name': 'Faheem Ashraf'}, 'stumped': 0, 'runout': 0, 'catch': 1, 'cb': 0, 'lbw': 0, 'bowled': 0}, {'catcher': {'id': '78b310fd-7403-4abf-83e4-8ac8357be790', 'name': 'Mohammad Rizwan'}, 'stumped': 0, 'runout': 0, 'catch': 1, 'cb': 0, 'lbw': 0, 'bowled': 0}, {'catcher': {'id': 'df7bffbc-02e6-41ef-8049-fd256c850fe8', 'name': 'Shaheen Afridi'}, 'stumped': 0, 'runout': 0, 'catch': 1, 'cb': 0, 'lbw': 0, 'bowled': 0}, {'catcher': {'id': '52bd987e-45af-4ced-a617-0916664f73a7', 'name': 'Fakhar Zaman'}, 'stumped': 0, 'runout': 0, 'catch': 1, 'cb': 0, 'lbw': 0, 'bowled': 0}, {'stumped': 0, 'runout': 0, 'catch': 0, 'cb': 0, 'lbw': 0, 'bowled': 1, 'catcher': {'id': '0b2537e2-1819-42ea-8e45-f8691fd47cc6', 'name': 'Abrar Ahmed'}}], 'extras': {'r': 13, 'b': 0}, 'totals': {}, 'inning': 'New Zealand Inning 1'}, {'batting': [{'batsman': {'id': 'bbecd12d-62b7-41d2-874b-3832bb9626ef', 'name': 'Saud Shakeel'}, 'dismissal': 'catch', 'bowler': {'id': 'b4b5b1fa-6913-44b1-acdd-084f1f4ed66e', 'name': 'William ORourke'}, 'catcher': {'id': '36e929d1-32f1-4d41-96c2-7df1364d0bab', 'name': 'Matt Henry'}, 'dismissal-text': 'c matt henry b william orourke', 'r': 6, 'b': 19, '4s': 0, '6s': 0, 'sr': 31.58, '': 0}, {'batsman': {'id': '4ffc5d94-5a5f-4489-a09f-60e22090c810', 'name': 'Babar Azam'}, 'dismissal': 'catch', 'bowler': {'id': '16ec245b-022d-4104-bd8f-ccc780428390', 'name': 'Mitchell Santner'}, 'catcher': {'id': 'a46cfa8b-96ae-4fb1-9499-65b8ce7e9634', 'name': 'Kane Williamson'}, 'dismissal-text': 'c williamson b santner', 'r': 64, 'b': 90, '4s': 6, '6s': 1, 'sr': 71.11, '': 0}, {'batsman': {'id': '78b310fd-7403-4abf-83e4-8ac8357be790', 'name': 'Mohammad Rizwan'}, 'dismissal': 'catch', 'bowler': {'id': 'b4b5b1fa-6913-44b1-acdd-084f1f4ed66e', 'name': 'William ORourke'}, 'catcher': {'id': '9e6fa482-3ad3-4831-b05d-4fed2510cdf5', 'name': 'Glenn Phillips'}, 'dismissal-text': 'c glenn phillips b william orourke', 'r': 3, 'b': 14, '4s': 0, '6s': 0, 'sr': 21.43, '': 0}, {'batsman': {'id': '52bd987e-45af-4ced-a617-0916664f73a7', 'name': 'Fakhar Zaman'}, 'dismissal': 'bowled', 'bowler': {'id': 'f059d7fe-16dc-4065-bcfc-51decb09e58d', 'name': 'Michael Bracewell', 'altnames': ['m bracewell']}, 'dismissal-text': 'b michael bracewell', 'r': 24, 'b': 41, '4s': 4, '6s': 0, 'sr': 58.54, '': 0}, {'batsman': {'id': 'e3ad4212-a06b-4d0d-9537-c8bc285d3ed2', 'name': 'Salman Agha'}, 'dismissal': 'catch', 'bowler': {'id': '5a1ed1c2-6444-4055-a34e-6a0de31711bb', 'name': 'Nathan Smith'}, 'catcher': {'id': 'f059d7fe-16dc-4065-bcfc-51decb09e58d', 'name': 'Michael Bracewell', 'altnames': ['m bracewell']}, 'dismissal-text': 'c michael bracewell b nathan smith', 'r': 42, 'b': 28, '4s': 6, '6s': 1, 'sr': 150, '': 0}, {'batsman': {'id': '153dae3c-5c3a-46fa-8e2e-93b7d200da68', 'name': 'Tayyab Tahir'}, 'dismissal': 'catch', 'bowler': {'id': '16ec245b-022d-4104-bd8f-ccc780428390', 'name': 'Mitchell Santner'}, 'catcher': {'id': 'a46cfa8b-96ae-4fb1-9499-65b8ce7e9634', 'name': 'Kane Williamson'}, 'dismissal-text': 'c williamson b santner', 'r': 1, 'b': 5, '4s': 0, '6s': 0, 'sr': 20, '': 0}, {'batsman': {'id': '92ed0d96-e2cc-47b6-8500-4c8aa2e0468a', 'name': 'Khushdil Shah', 'altnames': ['Khushdil']}, 'dismissal': 'catch', 'bowler': {'id': 'b4b5b1fa-6913-44b1-acdd-084f1f4ed66e', 'name': 'William ORourke'}, 'catcher': {'id': 'f059d7fe-16dc-4065-bcfc-51decb09e58d', 'name': 'Michael Bracewell', 'altnames': ['m bracewell']}, 'dismissal-text': 'c michael bracewell b william orourke', 'r': 69, 'b': 49, '4s': 10, '6s': 1, 'sr': 140.82, '': 0}, {'batsman': {'id': 'df7bffbc-02e6-41ef-8049-fd256c850fe8', 'name': 'Shaheen Afridi'}, 'dismissal': 'catch', 'bowler': {'id': '36e929d1-32f1-4d41-96c2-7df1364d0bab', 'name': 'Matt Henry'}, 'catcher': {'id': '05811a99-09ae-451e-8aa5-ec8cf0fa1aab', 'name': 'Tom Latham'}, 'dismissal-text': 'c latham b matt henry', 'r': 14, 'b': 13, '4s': 0, '6s': 1, 'sr': 107.69, '': 0}, {'batsman': {'id': 'a93dcc2b-b51a-47d1-85fc-e29d331d029d', 'name': 'Naseem Shah'}, 'dismissal': 'bowled', 'bowler': {'id': '36e929d1-32f1-4d41-96c2-7df1364d0bab', 'name': 'Matt Henry'}, 'dismissal-text': 'b matt henry', 'r': 13, 'b': 15, '4s': 0, '6s': 1, 'sr': 86.67, '': 0}, {'batsman': {'id': 'f54c649a-71a1-4f95-80d0-59e0087b4493', 'name': 'Haris Rauf'}, 'dismissal': 'catch', 'bowler': {'id': '16ec245b-022d-4104-bd8f-ccc780428390', 'name': 'Mitchell Santner'}, 'catcher': {'id': 'f75212f8-37fb-4cf0-8f37-d681b4cb66b2', 'name': 'Daryl Mitchell'}, 'dismissal-text': 'c daryl mitchell b santner', 'r': 19, 'b': 10, '4s': 0, '6s': 3, 'sr': 190, '': 0}, {'batsman': {'id': '0b2537e2-1819-42ea-8e45-f8691fd47cc6', 'name': 'Abrar Ahmed'}, 'dismissal-text': 'not out', 'r': 0, 'b': 0, '4s': 0, '6s': 0, 'sr': 0, '': 0}], 'bowling': [{'bowler': {'id': '36e929d1-32f1-4d41-96c2-7df1364d0bab', 'name': 'Matt Henry'}, 'o': 7.2, 'm': 1, 'r': 25, 'w': 2, 'nb': 0, 'wd': 1, 'eco': 3.4}, {'bowler': {'id': 'b4b5b1fa-6913-44b1-acdd-084f1f4ed66e', 'name': 'William ORourke'}, 'o': 9, 'm': 0, 'r': 47, 'w': 3, 'nb': 0, 'wd': 3, 'eco': 5.2}, {'bowler': {'id': 'f059d7fe-16dc-4065-bcfc-51decb09e58d', 'name': 'Michael Bracewell', 'altnames': ['m bracewell']}, 'o': 10, 'm': 1, 'r': 38, 'w': 1, 'nb': 0, 'wd': 0, 'eco': 3.8}, {'bowler': {'id': '9e6fa482-3ad3-4831-b05d-4fed2510cdf5', 'name': 'Glenn Phillips'}, 'o': 9, 'm': 0, 'r': 63, 'w': 0, 'nb': 0, 'wd': 0, 'eco': 7}, {'bowler': {'id': '16ec245b-022d-4104-bd8f-ccc780428390', 'name': 'Mitchell Santner'}, 'o': 10, 'm': 0, 'r': 66, 'w': 3, 'nb': 0, 'wd': 0, 'eco': 6.6}, {'bowler': {'id': '5a1ed1c2-6444-4055-a34e-6a0de31711bb', 'name': 'Nathan Smith'}, 'o': 2, 'm': 0, 'r': 20, 'w': 1, 'nb': 0, 'wd': 0, 'eco': 10}], 'catching': [{'catcher': {'id': '36e929d1-32f1-4d41-96c2-7df1364d0bab', 'name': 'Matt Henry'}, 'stumped': 0, 'runout': 0, 'catch': 1, 'cb': 0, 'lbw': 0, 'bowled': 1}, {'catcher': {'id': 'a46cfa8b-96ae-4fb1-9499-65b8ce7e9634', 'name': 'Kane Williamson'}, 'stumped': 0, 'runout': 0, 'catch': 2, 'cb': 0, 'lbw': 0, 'bowled': 0}, {'catcher': {'id': '9e6fa482-3ad3-4831-b05d-4fed2510cdf5', 'name': 'Glenn Phillips'}, 'stumped': 0, 'runout': 0, 'catch': 1, 'cb': 0, 'lbw': 0, 'bowled': 0}, {'catcher': {'id': 'f059d7fe-16dc-4065-bcfc-51decb09e58d', 'name': 'Michael Bracewell', 'altnames': ['m bracewell']}, 'stumped': 0, 'runout': 0, 'catch': 2, 'cb': 0, 'lbw': 0, 'bowled': 1}, {'catcher': {'id': '05811a99-09ae-451e-8aa5-ec8cf0fa1aab', 'name': 'Tom Latham'}, 'stumped': 0, 'runout': 0, 'catch': 1, 'cb': 0, 'lbw': 0, 'bowled': 0}, {'catcher': {'id': 'f75212f8-37fb-4cf0-8f37-d681b4cb66b2', 'name': 'Daryl Mitchell'}, 'stumped': 0, 'runout': 0, 'catch': 1, 'cb': 0, 'lbw': 0, 'bowled': 0}], 'extras': {'r': 5, 'b': 0}, 'totals': {}, 'inning': 'Pakistan Inning 1'}], 'matchStarted': True, 'matchEnded': True}, 'status': 'success', 'info': {'hitsToday': 46, 'hitsUsed': 10, 'hitsLimit': 100, 'credits': 0, 'server': 11, 'queryTime': 62.5783, 's': 0, 'cache': 0}}\n"
          ]
        }
      ]
    },
    {
      "cell_type": "code",
      "source": [
        "print(matches)"
      ],
      "metadata": {
        "colab": {
          "base_uri": "https://localhost:8080/"
        },
        "id": "eJ7rZAVaz8KT",
        "outputId": "3c36b220-1536-4a91-f9f7-e1ca819596a4"
      },
      "execution_count": 518,
      "outputs": [
        {
          "output_type": "stream",
          "name": "stdout",
          "text": [
            "{'apikey': '9b14f407-06dc-46a2-9c8e-a3d0d261e396', 'data': [{'id': '1f0d678c-8663-45ba-a4d9-db0d7db94a42', 'name': 'Pakistan vs New Zealand, 1st Match, Group A', 'matchType': 'odi', 'status': 'New Zealand won by 60 runs', 'venue': 'National Stadium, Karachi', 'date': '2025-02-19', 'dateTimeGMT': '2025-02-19T09:00:00', 'teams': ['Pakistan', 'New Zealand'], 'score': [{'r': 320, 'w': 5, 'o': 50, 'inning': 'New Zealand Inning 1'}, {'r': 260, 'w': 10, 'o': 47.2, 'inning': 'Pakistan Inning 1'}], 'series_id': '49fc7a37-da67-435e-bf5f-00da233e9ff4', 'fantasyEnabled': True, 'bbbEnabled': True, 'hasSquad': True, 'matchStarted': True, 'matchEnded': True}, {'id': '4f639d53-776e-4faa-b4aa-16c239529219', 'name': 'Indonesia vs Bahrain, 1st T20I', 'matchType': 't20', 'status': 'Bahrain won by 63 runs', 'venue': 'Udayana Cricket Ground, Bali', 'date': '2025-02-19', 'dateTimeGMT': '2025-02-19T00:30:00', 'teams': ['Indonesia', 'Bahrain'], 'score': [{'r': 156, 'w': 6, 'o': 20, 'inning': 'Bahrain Inning 1'}, {'r': 93, 'w': 10, 'o': 19.2, 'inning': 'Indonesia Inning 1'}], 'series_id': '4be27620-cfcc-4aca-a390-5a4dc5c1ff51', 'fantasyEnabled': True, 'bbbEnabled': True, 'hasSquad': True, 'matchStarted': True, 'matchEnded': True}, {'id': 'ba424581-23ef-4909-82bd-cab25207b788', 'name': 'Oman vs United States of America, 54th Match', 'matchType': 'odi', 'status': 'United States of America won by 57 runs', 'venue': 'Al Amerat Cricket Ground (Ministry Turf 1), Al Amerat', 'date': '2025-02-18', 'dateTimeGMT': '2025-02-18T06:00:00', 'teams': ['Oman', 'United States of America'], 'score': [{'r': 122, 'w': 10, 'o': 35.3, 'inning': 'United States of America Inning 1'}, {'r': 65, 'w': 10, 'o': 25.3, 'inning': 'Oman Inning 1'}], 'series_id': '9b836620-68cb-4798-9647-d479aa871b76', 'fantasyEnabled': True, 'bbbEnabled': True, 'hasSquad': True, 'matchStarted': True, 'matchEnded': True}, {'id': '64e18486-6151-4976-9311-61c8b1efd47f', 'name': 'UP Warriorz Women vs Delhi Capitals Women, 6th Match', 'matchType': 't20', 'status': 'Delhi Capitals Women won by 7 wkts', 'venue': 'Kotambi Stadium, Vadodara', 'date': '2025-02-19', 'dateTimeGMT': '2025-02-19T14:00:00', 'teams': ['UP Warriorz Women', 'Delhi Capitals Women'], 'score': [{'r': 166, 'w': 7, 'o': 20, 'inning': 'UP Warriorz Women Inning 1'}, {'r': 167, 'w': 3, 'o': 19.5, 'inning': 'Delhi Capitals Women Inning 1'}], 'series_id': 'bedf8bb2-7a5b-4812-bd50-2ce0a468ffb9', 'fantasyEnabled': True, 'bbbEnabled': True, 'hasSquad': True, 'matchStarted': True, 'matchEnded': True}, {'id': '14f7e249-7353-44a5-9e79-fd6caf60556d', 'name': 'Gujarat Giants Women vs Mumbai Indians Women, 5th Match', 'matchType': 't20', 'status': 'Mumbai Indians Women won by 5 wkts', 'venue': 'Kotambi Stadium, Vadodara', 'date': '2025-02-18', 'dateTimeGMT': '2025-02-18T14:00:00', 'teams': ['Gujarat Giants Women', 'Mumbai Indians Women'], 'score': [{'r': 120, 'w': 10, 'o': 20, 'inning': 'Gujarat Giants Women Inning 1'}, {'r': 122, 'w': 5, 'o': 16.1, 'inning': 'Mumbai Indians Women Inning 1'}], 'series_id': 'bedf8bb2-7a5b-4812-bd50-2ce0a468ffb9', 'fantasyEnabled': True, 'bbbEnabled': True, 'hasSquad': True, 'matchStarted': True, 'matchEnded': True}, {'id': '7aab6c41-5a94-4752-b8e9-349c8d845f3b', 'name': 'Zimbabwe vs Ireland, 3rd ODI', 'matchType': 'odi', 'status': 'Zimbabwe won by 9 wkts', 'venue': 'Harare Sports Club, Harare', 'date': '2025-02-18', 'dateTimeGMT': '2025-02-18T07:30:00', 'teams': ['Zimbabwe', 'Ireland'], 'score': [{'r': 240, 'w': 6, 'o': 50, 'inning': 'Ireland Inning 1'}, {'r': 246, 'w': 1, 'o': 39.3, 'inning': 'Zimbabwe Inning 1'}], 'series_id': '4c530671-8319-4805-b05b-665ac32d7577', 'fantasyEnabled': True, 'bbbEnabled': True, 'hasSquad': True, 'matchStarted': True, 'matchEnded': True}, {'id': '21b0262e-d15d-4808-a9e4-28cf927199c8', 'name': 'Canterbury vs Central Districts, 26th Match', 'matchType': 't20', 'status': 'No Result - due to rain', 'venue': 'Hagley Oval, Christchurch', 'date': '2025-01-26', 'dateTimeGMT': '2025-01-26T05:25:00', 'teams': ['Canterbury', 'Central Districts'], 'score': [{'r': 45, 'w': 6, 'o': 11, 'inning': 'Central Districts Inning 1'}], 'series_id': '0c19f96e-19a4-4b9e-af07-18645ab4970c', 'fantasyEnabled': True, 'bbbEnabled': True, 'hasSquad': True, 'matchStarted': True, 'matchEnded': False}, {'id': '4de664c7-f841-4b9c-8f37-cf2ce957b9ce', 'name': 'Wellington vs Auckland, 25th Match', 'matchType': 'odi', 'status': 'Wellington won by 7 wkts - 31 over game - due to rain', 'venue': 'Basin Reserve, Wellington', 'date': '2025-02-17', 'dateTimeGMT': '2025-02-17T21:30:00', 'teams': ['Wellington', 'Auckland'], 'teamInfo': [{'name': 'Auckland', 'shortname': 'AKL', 'img': 'https://g.cricapi.com/iapi/5-637993557414710285.webp?w=48'}, {'name': 'Wellington', 'shortname': 'WEL', 'img': 'https://g.cricapi.com/iapi/99-637987556014883021.webp?w=48'}], 'score': [{'r': 194, 'w': 6, 'o': 31, 'inning': 'Auckland Inning 1'}, {'r': 198, 'w': 3, 'o': 30.5, 'inning': 'Wellington Inning 1'}], 'series_id': '561215e0-b461-4a82-8cfb-c8ca6b04d3cc', 'fantasyEnabled': True, 'bbbEnabled': True, 'hasSquad': True, 'matchStarted': True, 'matchEnded': True}, {'id': 'f3de4e29-9c77-4093-9f81-ef9ab64107e1', 'name': 'Northern Knights vs Canterbury, 26th Match', 'matchType': 'odi', 'status': 'Canterbury won by 3 wkts - 39 over game - due to rain', 'venue': 'Seddon Park, Hamilton', 'date': '2025-02-17', 'dateTimeGMT': '2025-02-17T21:30:00', 'teams': ['Northern Knights', 'Canterbury'], 'teamInfo': [{'name': 'Canterbury', 'shortname': 'CAN', 'img': 'https://g.cricapi.com/iapi/15-637993523929449827.webp?w=48'}, {'name': 'Northern Knights', 'shortname': 'NK', 'img': 'https://g.cricapi.com/iapi/62-637992668006396208.webp?w=48'}], 'score': [{'r': 262, 'w': 5, 'o': 39, 'inning': 'Northern Knights Inning 1'}, {'r': 263, 'w': 7, 'o': 37.1, 'inning': 'Canterbury Inning 1'}], 'series_id': '561215e0-b461-4a82-8cfb-c8ca6b04d3cc', 'fantasyEnabled': True, 'bbbEnabled': True, 'hasSquad': True, 'matchStarted': True, 'matchEnded': True}, {'id': 'd52a4d42-c53e-4f25-b0fe-33df2282d7cc', 'name': 'Central Districts vs Otago, 27th Match', 'matchType': 'odi', 'status': 'Otago won by 5 wkts', 'venue': 'McLean Park, Napier', 'date': '2025-02-17', 'dateTimeGMT': '2025-02-17T21:30:00', 'teams': ['Central Districts', 'Otago'], 'teamInfo': [{'name': 'Central Districts', 'shortname': 'CD', 'img': 'https://g.cricapi.com/iapi/16-637993517837161031.webp?w=48'}, {'name': 'Otago', 'shortname': 'OTG', 'img': 'https://g.cricapi.com/iapi/65-637992667637799448.webp?w=48'}], 'score': [{'r': 162, 'w': 10, 'o': 45.4, 'inning': 'Central Districts Inning 1'}, {'r': 164, 'w': 5, 'o': 29.5, 'inning': 'Otago Inning 1'}], 'series_id': '561215e0-b461-4a82-8cfb-c8ca6b04d3cc', 'fantasyEnabled': True, 'bbbEnabled': True, 'hasSquad': True, 'matchStarted': True, 'matchEnded': True}, {'id': '9e2471a2-25fc-4868-a482-6ac2c1ce876b', 'name': 'Mpumalanga Rhinos vs South Western Districts, 5th Match', 'matchType': 'odi', 'status': 'Mpumalanga Rhinos won by 6 wkts', 'venue': 'Recreation Ground, Oudtshoorn', 'date': '2025-02-19', 'dateTimeGMT': '2025-02-19T08:00:00', 'teams': ['Mpumalanga Rhinos', 'South Western Districts'], 'teamInfo': [{'name': 'Mpumalanga Rhinos', 'shortname': 'MPR', 'img': 'https://g.cricapi.com/iapi/49-637991993271802283.webp?w=48'}, {'name': 'South Western Districts', 'shortname': 'SWD', 'img': 'https://g.cricapi.com/iapi/85-637993498736049006.webp?w=48'}], 'score': [{'r': 261, 'w': 7, 'o': 50, 'inning': 'South Western Districts Inning 1'}, {'r': 265, 'w': 4, 'o': 44.1, 'inning': 'Mpumalanga Rhinos Inning 1'}], 'series_id': '03532633-c83b-401a-aecb-99da710ae4fd', 'fantasyEnabled': True, 'bbbEnabled': False, 'hasSquad': True, 'matchStarted': True, 'matchEnded': True}, {'id': '9eb2fdf8-e7f0-4b71-9931-70db4d9c06f1', 'name': 'Northern Cape vs South Africa Emerging Players, 7th Match', 'matchType': 'odi', 'status': 'Northern Cape won by 5 wkts (2nd innings reduced to 36 ovs due to rain, DLS target 118)', 'venue': 'Diamond Oval, Kimberley', 'date': '2025-02-19', 'dateTimeGMT': '2025-02-19T08:00:00', 'teams': ['Northern Cape', 'South Africa Emerging Players'], 'teamInfo': [{'name': 'Northern Cape', 'shortname': 'NCAPE', 'img': 'https://g.cricapi.com/iapi/61-637991981464151764.webp?w=48'}, {'name': 'South Africa Emerging Players', 'shortname': 'SA', 'img': 'https://g.cricapi.com/iapi/273-637877069629067075.webp?w=48'}], 'score': [{'r': 131, 'w': 10, 'o': 41.1, 'inning': 'South Africa Emerging Players Inning 1'}, {'r': 119, 'w': 5, 'o': 25.5, 'inning': 'Northern Cape Inning 1'}], 'series_id': '03532633-c83b-401a-aecb-99da710ae4fd', 'fantasyEnabled': True, 'bbbEnabled': False, 'hasSquad': True, 'matchStarted': True, 'matchEnded': True}, {'id': '8173604b-c5e9-4b73-9741-7d1ec63f0f07', 'name': 'Boland vs Dolphins, 5th Match', 'matchType': 'odi', 'status': 'Innings Break', 'venue': 'Boland Park, Paarl', 'date': '2025-02-19', 'dateTimeGMT': '2025-02-19T11:00:00', 'teams': ['Boland', 'Dolphins'], 'teamInfo': [{'name': 'Boland', 'shortname': 'BL', 'img': 'https://h.cricapi.com/img/icon512.png'}, {'name': 'Dolphins', 'shortname': 'DOL', 'img': 'https://g.cricapi.com/iapi/20-637993514627926036.webp?w=48'}], 'score': [{'r': 174, 'w': 10, 'o': 49.4, 'inning': 'Dolphins Inning 1'}], 'series_id': 'c459a046-6e27-4499-8ee8-1915f783cf38', 'fantasyEnabled': True, 'bbbEnabled': False, 'hasSquad': True, 'matchStarted': True, 'matchEnded': False}, {'id': 'b5b45593-4edf-4ec4-8610-b8f4fe049831', 'name': 'Western Province vs North West, 6th Match', 'matchType': 'odi', 'status': 'Western Province won by 7 wkts', 'venue': 'Newlands, Cape Town', 'date': '2025-02-19', 'dateTimeGMT': '2025-02-19T11:00:00', 'teams': ['Western Province', 'North West'], 'teamInfo': [{'name': 'North West', 'shortname': 'NWEST', 'img': 'https://g.cricapi.com/iapi/60-637991981808951763.webp?w=48'}, {'name': 'Western Province', 'shortname': 'WPR', 'img': 'https://g.cricapi.com/iapi/104-637987555401464222.webp?w=48'}], 'score': [{'r': 145, 'w': 10, 'o': 38.2, 'inning': 'North West Inning 1'}, {'r': 146, 'w': 3, 'o': 23, 'inning': 'Western Province Inning 1'}], 'series_id': 'c459a046-6e27-4499-8ee8-1915f783cf38', 'fantasyEnabled': True, 'bbbEnabled': False, 'hasSquad': True, 'matchStarted': True, 'matchEnded': True}, {'id': '510fb5c0-8f0c-4282-8e39-7ec6ae9f24dc', 'name': 'Knights vs Warriors, 7th Match', 'matchType': 'odi', 'status': 'Rain stops play - Warriors need 241 runs', 'venue': 'Mangaung Oval, Bloemfontein', 'date': '2025-02-19', 'dateTimeGMT': '2025-02-19T11:00:00', 'teams': ['Knights', 'Warriors'], 'teamInfo': [{'name': 'Knights', 'shortname': 'KNG', 'img': 'https://g.cricapi.com/iapi/40-637992688759741358.webp?w=48'}, {'name': 'Warriors', 'shortname': 'WAR', 'img': 'https://g.cricapi.com/iapi/98-637987556857963180.webp?w=48'}], 'score': [{'r': 247, 'w': 7, 'o': 50, 'inning': 'Knights Inning 1'}, {'r': 7, 'w': 1, 'o': 5, 'inning': 'Warriors Inning 1'}], 'series_id': 'c459a046-6e27-4499-8ee8-1915f783cf38', 'fantasyEnabled': True, 'bbbEnabled': False, 'hasSquad': True, 'matchStarted': True, 'matchEnded': False}, {'id': '1878da78-34c3-4acb-a34b-030a54c7a2a7', 'name': 'South Australia vs Tasmania, 24th Match', 'matchType': 'test', 'status': 'Day 2: Stumps - South Australia lead by 264 runs', 'venue': 'Adelaide Oval, Adelaide', 'date': '2025-02-18', 'dateTimeGMT': '2025-02-18T00:00:00', 'teams': ['South Australia', 'Tasmania'], 'teamInfo': [{'name': 'South Australia', 'shortname': 'SAUS', 'img': 'https://g.cricapi.com/iapi/84-637993500332119314.webp?w=48'}, {'name': 'Tasmania', 'shortname': 'TAS', 'img': 'https://g.cricapi.com/iapi/88-637987559070396403.webp?w=48'}], 'score': [{'r': 93, 'w': 10, 'o': 47.2, 'inning': 'South Australia Inning 1'}, {'r': 101, 'w': 10, 'o': 33.4, 'inning': 'Tasmania Inning 1'}, {'r': 272, 'w': 6, 'o': 100, 'inning': 'South Australia Inning 2'}], 'series_id': '0a25b3fb-3fc9-4c22-b11b-a30defda74f2', 'fantasyEnabled': True, 'bbbEnabled': False, 'hasSquad': True, 'matchStarted': True, 'matchEnded': False}, {'id': '12a48113-4746-4a38-8ce3-c0a77364c0b4', 'name': 'Queensland vs Western Australia, 23rd Match', 'matchType': 'test', 'status': 'Day 2: Stumps - Queensland trail by 126 runs', 'venue': 'The Gabba, Brisbane', 'date': '2025-02-18', 'dateTimeGMT': '2025-02-18T00:00:00', 'teams': ['Queensland', 'Western Australia'], 'teamInfo': [{'name': 'Queensland', 'shortname': 'QL', 'img': 'https://g.cricapi.com/iapi/73-637992667453177840.webp?w=48'}, {'name': 'Western Australia', 'shortname': 'WA', 'img': 'https://g.cricapi.com/iapi/103-637987555730367982.webp?w=48'}], 'score': [{'r': 147, 'w': 10, 'o': 53.4, 'inning': 'Queensland Inning 1'}, {'r': 312, 'w': 10, 'o': 114, 'inning': 'Western Australia Inning 1'}, {'r': 39, 'w': 1, 'o': 15, 'inning': 'Queensland Inning 2'}], 'series_id': '0a25b3fb-3fc9-4c22-b11b-a30defda74f2', 'fantasyEnabled': True, 'bbbEnabled': False, 'hasSquad': True, 'matchStarted': True, 'matchEnded': False}, {'id': '4a8de14d-99df-4884-b2cb-a41320e18593', 'name': 'New South Wales vs Victoria, 22nd Match', 'matchType': 'test', 'status': 'Day 2: Stumps - New South Wales lead by 190 runs', 'venue': 'Sydney Cricket Ground, Sydney', 'date': '2025-02-17', 'dateTimeGMT': '2025-02-17T23:30:00', 'teams': ['New South Wales', 'Victoria'], 'teamInfo': [{'name': 'New South Wales', 'shortname': 'NSW', 'img': 'https://g.cricapi.com/iapi/56-637991992698313262.webp?w=48'}, {'name': 'Victoria', 'shortname': 'VIC', 'img': 'https://g.cricapi.com/iapi/96-637987557199223762.webp?w=48'}], 'score': [{'r': 238, 'w': 10, 'o': 65.2, 'inning': 'New South Wales Inning 1'}, {'r': 182, 'w': 10, 'o': 60.1, 'inning': 'Victoria Inning 1'}, {'r': 134, 'w': 4, 'o': 51, 'inning': 'New South Wales Inning 2'}], 'series_id': '0a25b3fb-3fc9-4c22-b11b-a30defda74f2', 'fantasyEnabled': True, 'bbbEnabled': False, 'hasSquad': True, 'matchStarted': True, 'matchEnded': False}, {'id': 'd16ba290-31c4-48b7-964f-bc86f4e6d53a', 'name': 'Vidarbha vs Mumbai, Semi Final 2 (QF2 v QF3)', 'matchType': 'test', 'status': 'Day 3: Stumps - Vidarbha lead by 260 runs', 'venue': 'Vidarbha Cricket Association Stadium, Nagpur', 'date': '2025-02-17', 'dateTimeGMT': '2025-02-17T04:00:00', 'teams': ['Vidarbha', 'Mumbai'], 'teamInfo': [{'name': 'Mumbai', 'shortname': 'MUM', 'img': 'https://g.cricapi.com/iapi/51-637897800490404099.png?w=48'}, {'name': 'Vidarbha', 'shortname': 'VID', 'img': 'https://g.cricapi.com/iapi/97-637897807024164117.png?w=48'}], 'score': [{'r': 383, 'w': 10, 'o': 107.5, 'inning': 'Vidarbha Inning 1'}, {'r': 270, 'w': 10, 'o': 92, 'inning': 'Mumbai Inning 1'}, {'r': 147, 'w': 4, 'o': 53, 'inning': 'Vidarbha Inning 2'}], 'series_id': '058f5196-a61e-4b77-bbb8-e87a8d57712d', 'fantasyEnabled': False, 'bbbEnabled': False, 'hasSquad': True, 'matchStarted': True, 'matchEnded': False}, {'id': 'f25667ed-ffb5-4ee1-bcc8-206bac2c51c3', 'name': 'Gujarat vs Kerala, Semi Final 1 (QF1 v QF4)', 'matchType': 'test', 'status': 'Day 3: Stumps - Gujarat trail by 235 runs', 'venue': 'Narendra Modi Stadium A Ground, Ahmedabad', 'date': '2025-02-17', 'dateTimeGMT': '2025-02-17T04:00:00', 'teams': ['Gujarat', 'Kerala'], 'teamInfo': [{'name': 'Gujarat', 'shortname': 'GUJ', 'img': 'https://g.cricapi.com/iapi/27-637897792592204662.png?w=48'}, {'name': 'Kerala', 'shortname': 'KER', 'img': 'https://g.cricapi.com/iapi/39-637897797224429950.png?w=48'}], 'score': [{'r': 457, 'w': 10, 'o': 187, 'inning': 'Kerala Inning 1'}, {'r': 222, 'w': 1, 'o': 71, 'inning': 'Gujarat Inning 1'}], 'series_id': '058f5196-a61e-4b77-bbb8-e87a8d57712d', 'fantasyEnabled': True, 'bbbEnabled': False, 'hasSquad': True, 'matchStarted': True, 'matchEnded': False}], 'status': 'success', 'info': {'hitsToday': 36, 'hitsUsed': 1, 'hitsLimit': 100, 'credits': 0, 'server': 21, 'offsetRows': 0, 'totalRows': 20, 'queryTime': 80.5288, 's': 0, 'cache': 0}}\n"
          ]
        }
      ]
    },
    {
      "cell_type": "code",
      "source": [
        "print(scorecard)"
      ],
      "metadata": {
        "colab": {
          "base_uri": "https://localhost:8080/"
        },
        "id": "wIj2UnUBGMHz",
        "outputId": "019f92e7-5cea-4c10-886f-b34df0e58961"
      },
      "execution_count": 519,
      "outputs": [
        {
          "output_type": "stream",
          "name": "stdout",
          "text": [
            "{'apikey': '9b14f407-06dc-46a2-9c8e-a3d0d261e396', 'data': {'id': '1f0d678c-8663-45ba-a4d9-db0d7db94a42', 'name': 'Pakistan vs New Zealand, 1st Match, Group A', 'matchType': 'odi', 'status': 'New Zealand won by 60 runs', 'venue': 'National Stadium, Karachi', 'date': '2025-02-19', 'dateTimeGMT': '2025-02-19T09:00:00', 'teams': ['Pakistan', 'New Zealand'], 'score': [{'r': 320, 'w': 5, 'o': 50, 'inning': 'New Zealand Inning 1'}, {'r': 260, 'w': 10, 'o': 47.2, 'inning': 'Pakistan Inning 1'}], 'tossWinner': 'Pakistan', 'tossChoice': 'bowl', 'matchWinner': 'New Zealand', 'series_id': '49fc7a37-da67-435e-bf5f-00da233e9ff4', 'scorecard': [{'batting': [{'batsman': {'id': '76f0901e-dc58-4641-a31a-f041a6b165c9', 'name': 'Will Young'}, 'dismissal': 'catch', 'bowler': {'id': 'a93dcc2b-b51a-47d1-85fc-e29d331d029d', 'name': 'Naseem Shah'}, 'catcher': {'id': '0c996751-9b83-4a46-81ac-c9d7304f58c7', 'name': 'Faheem Ashraf'}, 'dismissal-text': 'c faheem ashraf b naseem shah', 'r': 107, 'b': 113, '4s': 12, '6s': 1, 'sr': 94.69, '': 0}, {'batsman': {'id': 'eac0032b-055a-497b-9d4e-f54008414515', 'name': 'Devon Conway'}, 'dismissal': 'bowled', 'bowler': {'id': '0b2537e2-1819-42ea-8e45-f8691fd47cc6', 'name': 'Abrar Ahmed'}, 'dismissal-text': 'b abrar ahmed', 'r': 10, 'b': 17, '4s': 2, '6s': 0, 'sr': 58.82, '': 0}, {'batsman': {'id': 'a46cfa8b-96ae-4fb1-9499-65b8ce7e9634', 'name': 'Kane Williamson'}, 'dismissal': 'catch', 'bowler': {'id': 'a93dcc2b-b51a-47d1-85fc-e29d331d029d', 'name': 'Naseem Shah'}, 'catcher': {'id': '78b310fd-7403-4abf-83e4-8ac8357be790', 'name': 'Mohammad Rizwan'}, 'dismissal-text': 'c rizwan b naseem shah', 'r': 1, 'b': 2, '4s': 0, '6s': 0, 'sr': 50, '': 0}, {'batsman': {'id': 'f75212f8-37fb-4cf0-8f37-d681b4cb66b2', 'name': 'Daryl Mitchell'}, 'dismissal': 'catch', 'bowler': {'id': 'f54c649a-71a1-4f95-80d0-59e0087b4493', 'name': 'Haris Rauf'}, 'catcher': {'id': 'df7bffbc-02e6-41ef-8049-fd256c850fe8', 'name': 'Shaheen Afridi'}, 'dismissal-text': 'c shaheen afridi b haris rauf', 'r': 10, 'b': 24, '4s': 0, '6s': 0, 'sr': 41.67, '': 0}, {'batsman': {'id': '05811a99-09ae-451e-8aa5-ec8cf0fa1aab', 'name': 'Tom Latham'}, 'dismissal-text': 'not out', 'r': 118, 'b': 104, '4s': 10, '6s': 3, 'sr': 113.46, '': 0}, {'batsman': {'id': '9e6fa482-3ad3-4831-b05d-4fed2510cdf5', 'name': 'Glenn Phillips'}, 'dismissal': 'catch', 'bowler': {'id': 'f54c649a-71a1-4f95-80d0-59e0087b4493', 'name': 'Haris Rauf'}, 'catcher': {'id': '52bd987e-45af-4ced-a617-0916664f73a7', 'name': 'Fakhar Zaman'}, 'dismissal-text': 'c fakhar zaman b haris rauf', 'r': 61, 'b': 39, '4s': 3, '6s': 4, 'sr': 156.41, '': 0}, {'batsman': {'id': 'f059d7fe-16dc-4065-bcfc-51decb09e58d', 'name': 'Michael Bracewell', 'altnames': ['m bracewell']}, 'dismissal-text': 'not out', 'r': 0, 'b': 1, '4s': 0, '6s': 0, 'sr': 0, '': 0}], 'bowling': [{'bowler': {'id': 'df7bffbc-02e6-41ef-8049-fd256c850fe8', 'name': 'Shaheen Afridi'}, 'o': 10, 'm': 0, 'r': 68, 'w': 0, 'nb': 0, 'wd': 2, 'eco': 6.8}, {'bowler': {'id': 'a93dcc2b-b51a-47d1-85fc-e29d331d029d', 'name': 'Naseem Shah'}, 'o': 10, 'm': 0, 'r': 63, 'w': 2, 'nb': 0, 'wd': 0, 'eco': 6.3}, {'bowler': {'id': '0b2537e2-1819-42ea-8e45-f8691fd47cc6', 'name': 'Abrar Ahmed'}, 'o': 10, 'm': 0, 'r': 47, 'w': 1, 'nb': 0, 'wd': 1, 'eco': 4.7}, {'bowler': {'id': 'f54c649a-71a1-4f95-80d0-59e0087b4493', 'name': 'Haris Rauf'}, 'o': 10, 'm': 0, 'r': 83, 'w': 2, 'nb': 0, 'wd': 6, 'eco': 8.3}, {'bowler': {'id': '92ed0d96-e2cc-47b6-8500-4c8aa2e0468a', 'name': 'Khushdil Shah', 'altnames': ['Khushdil']}, 'o': 7, 'm': 0, 'r': 40, 'w': 0, 'nb': 0, 'wd': 0, 'eco': 5.7}, {'bowler': {'id': 'e3ad4212-a06b-4d0d-9537-c8bc285d3ed2', 'name': 'Salman Agha'}, 'o': 3, 'm': 0, 'r': 15, 'w': 0, 'nb': 0, 'wd': 0, 'eco': 5}], 'catching': [{'catcher': {'id': '0c996751-9b83-4a46-81ac-c9d7304f58c7', 'name': 'Faheem Ashraf'}, 'stumped': 0, 'runout': 0, 'catch': 1, 'cb': 0, 'lbw': 0, 'bowled': 0}, {'catcher': {'id': '78b310fd-7403-4abf-83e4-8ac8357be790', 'name': 'Mohammad Rizwan'}, 'stumped': 0, 'runout': 0, 'catch': 1, 'cb': 0, 'lbw': 0, 'bowled': 0}, {'catcher': {'id': 'df7bffbc-02e6-41ef-8049-fd256c850fe8', 'name': 'Shaheen Afridi'}, 'stumped': 0, 'runout': 0, 'catch': 1, 'cb': 0, 'lbw': 0, 'bowled': 0}, {'catcher': {'id': '52bd987e-45af-4ced-a617-0916664f73a7', 'name': 'Fakhar Zaman'}, 'stumped': 0, 'runout': 0, 'catch': 1, 'cb': 0, 'lbw': 0, 'bowled': 0}, {'stumped': 0, 'runout': 0, 'catch': 0, 'cb': 0, 'lbw': 0, 'bowled': 1, 'catcher': {'id': '0b2537e2-1819-42ea-8e45-f8691fd47cc6', 'name': 'Abrar Ahmed'}}], 'extras': {'r': 13, 'b': 0}, 'totals': {}, 'inning': 'New Zealand Inning 1'}, {'batting': [{'batsman': {'id': 'bbecd12d-62b7-41d2-874b-3832bb9626ef', 'name': 'Saud Shakeel'}, 'dismissal': 'catch', 'bowler': {'id': 'b4b5b1fa-6913-44b1-acdd-084f1f4ed66e', 'name': 'William ORourke'}, 'catcher': {'id': '36e929d1-32f1-4d41-96c2-7df1364d0bab', 'name': 'Matt Henry'}, 'dismissal-text': 'c matt henry b william orourke', 'r': 6, 'b': 19, '4s': 0, '6s': 0, 'sr': 31.58, '': 0}, {'batsman': {'id': '4ffc5d94-5a5f-4489-a09f-60e22090c810', 'name': 'Babar Azam'}, 'dismissal': 'catch', 'bowler': {'id': '16ec245b-022d-4104-bd8f-ccc780428390', 'name': 'Mitchell Santner'}, 'catcher': {'id': 'a46cfa8b-96ae-4fb1-9499-65b8ce7e9634', 'name': 'Kane Williamson'}, 'dismissal-text': 'c williamson b santner', 'r': 64, 'b': 90, '4s': 6, '6s': 1, 'sr': 71.11, '': 0}, {'batsman': {'id': '78b310fd-7403-4abf-83e4-8ac8357be790', 'name': 'Mohammad Rizwan'}, 'dismissal': 'catch', 'bowler': {'id': 'b4b5b1fa-6913-44b1-acdd-084f1f4ed66e', 'name': 'William ORourke'}, 'catcher': {'id': '9e6fa482-3ad3-4831-b05d-4fed2510cdf5', 'name': 'Glenn Phillips'}, 'dismissal-text': 'c glenn phillips b william orourke', 'r': 3, 'b': 14, '4s': 0, '6s': 0, 'sr': 21.43, '': 0}, {'batsman': {'id': '52bd987e-45af-4ced-a617-0916664f73a7', 'name': 'Fakhar Zaman'}, 'dismissal': 'bowled', 'bowler': {'id': 'f059d7fe-16dc-4065-bcfc-51decb09e58d', 'name': 'Michael Bracewell', 'altnames': ['m bracewell']}, 'dismissal-text': 'b michael bracewell', 'r': 24, 'b': 41, '4s': 4, '6s': 0, 'sr': 58.54, '': 0}, {'batsman': {'id': 'e3ad4212-a06b-4d0d-9537-c8bc285d3ed2', 'name': 'Salman Agha'}, 'dismissal': 'catch', 'bowler': {'id': '5a1ed1c2-6444-4055-a34e-6a0de31711bb', 'name': 'Nathan Smith'}, 'catcher': {'id': 'f059d7fe-16dc-4065-bcfc-51decb09e58d', 'name': 'Michael Bracewell', 'altnames': ['m bracewell']}, 'dismissal-text': 'c michael bracewell b nathan smith', 'r': 42, 'b': 28, '4s': 6, '6s': 1, 'sr': 150, '': 0}, {'batsman': {'id': '153dae3c-5c3a-46fa-8e2e-93b7d200da68', 'name': 'Tayyab Tahir'}, 'dismissal': 'catch', 'bowler': {'id': '16ec245b-022d-4104-bd8f-ccc780428390', 'name': 'Mitchell Santner'}, 'catcher': {'id': 'a46cfa8b-96ae-4fb1-9499-65b8ce7e9634', 'name': 'Kane Williamson'}, 'dismissal-text': 'c williamson b santner', 'r': 1, 'b': 5, '4s': 0, '6s': 0, 'sr': 20, '': 0}, {'batsman': {'id': '92ed0d96-e2cc-47b6-8500-4c8aa2e0468a', 'name': 'Khushdil Shah', 'altnames': ['Khushdil']}, 'dismissal': 'catch', 'bowler': {'id': 'b4b5b1fa-6913-44b1-acdd-084f1f4ed66e', 'name': 'William ORourke'}, 'catcher': {'id': 'f059d7fe-16dc-4065-bcfc-51decb09e58d', 'name': 'Michael Bracewell', 'altnames': ['m bracewell']}, 'dismissal-text': 'c michael bracewell b william orourke', 'r': 69, 'b': 49, '4s': 10, '6s': 1, 'sr': 140.82, '': 0}, {'batsman': {'id': 'df7bffbc-02e6-41ef-8049-fd256c850fe8', 'name': 'Shaheen Afridi'}, 'dismissal': 'catch', 'bowler': {'id': '36e929d1-32f1-4d41-96c2-7df1364d0bab', 'name': 'Matt Henry'}, 'catcher': {'id': '05811a99-09ae-451e-8aa5-ec8cf0fa1aab', 'name': 'Tom Latham'}, 'dismissal-text': 'c latham b matt henry', 'r': 14, 'b': 13, '4s': 0, '6s': 1, 'sr': 107.69, '': 0}, {'batsman': {'id': 'a93dcc2b-b51a-47d1-85fc-e29d331d029d', 'name': 'Naseem Shah'}, 'dismissal': 'bowled', 'bowler': {'id': '36e929d1-32f1-4d41-96c2-7df1364d0bab', 'name': 'Matt Henry'}, 'dismissal-text': 'b matt henry', 'r': 13, 'b': 15, '4s': 0, '6s': 1, 'sr': 86.67, '': 0}, {'batsman': {'id': 'f54c649a-71a1-4f95-80d0-59e0087b4493', 'name': 'Haris Rauf'}, 'dismissal': 'catch', 'bowler': {'id': '16ec245b-022d-4104-bd8f-ccc780428390', 'name': 'Mitchell Santner'}, 'catcher': {'id': 'f75212f8-37fb-4cf0-8f37-d681b4cb66b2', 'name': 'Daryl Mitchell'}, 'dismissal-text': 'c daryl mitchell b santner', 'r': 19, 'b': 10, '4s': 0, '6s': 3, 'sr': 190, '': 0}, {'batsman': {'id': '0b2537e2-1819-42ea-8e45-f8691fd47cc6', 'name': 'Abrar Ahmed'}, 'dismissal-text': 'not out', 'r': 0, 'b': 0, '4s': 0, '6s': 0, 'sr': 0, '': 0}], 'bowling': [{'bowler': {'id': '36e929d1-32f1-4d41-96c2-7df1364d0bab', 'name': 'Matt Henry'}, 'o': 7.2, 'm': 1, 'r': 25, 'w': 2, 'nb': 0, 'wd': 1, 'eco': 3.4}, {'bowler': {'id': 'b4b5b1fa-6913-44b1-acdd-084f1f4ed66e', 'name': 'William ORourke'}, 'o': 9, 'm': 0, 'r': 47, 'w': 3, 'nb': 0, 'wd': 3, 'eco': 5.2}, {'bowler': {'id': 'f059d7fe-16dc-4065-bcfc-51decb09e58d', 'name': 'Michael Bracewell', 'altnames': ['m bracewell']}, 'o': 10, 'm': 1, 'r': 38, 'w': 1, 'nb': 0, 'wd': 0, 'eco': 3.8}, {'bowler': {'id': '9e6fa482-3ad3-4831-b05d-4fed2510cdf5', 'name': 'Glenn Phillips'}, 'o': 9, 'm': 0, 'r': 63, 'w': 0, 'nb': 0, 'wd': 0, 'eco': 7}, {'bowler': {'id': '16ec245b-022d-4104-bd8f-ccc780428390', 'name': 'Mitchell Santner'}, 'o': 10, 'm': 0, 'r': 66, 'w': 3, 'nb': 0, 'wd': 0, 'eco': 6.6}, {'bowler': {'id': '5a1ed1c2-6444-4055-a34e-6a0de31711bb', 'name': 'Nathan Smith'}, 'o': 2, 'm': 0, 'r': 20, 'w': 1, 'nb': 0, 'wd': 0, 'eco': 10}], 'catching': [{'catcher': {'id': '36e929d1-32f1-4d41-96c2-7df1364d0bab', 'name': 'Matt Henry'}, 'stumped': 0, 'runout': 0, 'catch': 1, 'cb': 0, 'lbw': 0, 'bowled': 1}, {'catcher': {'id': 'a46cfa8b-96ae-4fb1-9499-65b8ce7e9634', 'name': 'Kane Williamson'}, 'stumped': 0, 'runout': 0, 'catch': 2, 'cb': 0, 'lbw': 0, 'bowled': 0}, {'catcher': {'id': '9e6fa482-3ad3-4831-b05d-4fed2510cdf5', 'name': 'Glenn Phillips'}, 'stumped': 0, 'runout': 0, 'catch': 1, 'cb': 0, 'lbw': 0, 'bowled': 0}, {'catcher': {'id': 'f059d7fe-16dc-4065-bcfc-51decb09e58d', 'name': 'Michael Bracewell', 'altnames': ['m bracewell']}, 'stumped': 0, 'runout': 0, 'catch': 2, 'cb': 0, 'lbw': 0, 'bowled': 1}, {'catcher': {'id': '05811a99-09ae-451e-8aa5-ec8cf0fa1aab', 'name': 'Tom Latham'}, 'stumped': 0, 'runout': 0, 'catch': 1, 'cb': 0, 'lbw': 0, 'bowled': 0}, {'catcher': {'id': 'f75212f8-37fb-4cf0-8f37-d681b4cb66b2', 'name': 'Daryl Mitchell'}, 'stumped': 0, 'runout': 0, 'catch': 1, 'cb': 0, 'lbw': 0, 'bowled': 0}], 'extras': {'r': 5, 'b': 0}, 'totals': {}, 'inning': 'Pakistan Inning 1'}], 'matchStarted': True, 'matchEnded': True}, 'status': 'success', 'info': {'hitsToday': 46, 'hitsUsed': 10, 'hitsLimit': 100, 'credits': 0, 'server': 11, 'queryTime': 62.5783, 's': 0, 'cache': 0}}\n"
          ]
        }
      ]
    },
    {
      "cell_type": "markdown",
      "source": [
        "# **DATA PREPROCESSING**"
      ],
      "metadata": {
        "id": "1rZF_RUjZ9gQ"
      }
    },
    {
      "cell_type": "code",
      "source": [
        "x=matches['data']"
      ],
      "metadata": {
        "id": "kvbubf6h44oj"
      },
      "execution_count": 520,
      "outputs": []
    },
    {
      "cell_type": "code",
      "source": [
        "print(x)"
      ],
      "metadata": {
        "colab": {
          "base_uri": "https://localhost:8080/"
        },
        "id": "dE9bpSO547Cf",
        "outputId": "f4e8e615-2e83-4c18-e44c-5aafc0015f8b"
      },
      "execution_count": 521,
      "outputs": [
        {
          "output_type": "stream",
          "name": "stdout",
          "text": [
            "[{'id': '1f0d678c-8663-45ba-a4d9-db0d7db94a42', 'name': 'Pakistan vs New Zealand, 1st Match, Group A', 'matchType': 'odi', 'status': 'New Zealand won by 60 runs', 'venue': 'National Stadium, Karachi', 'date': '2025-02-19', 'dateTimeGMT': '2025-02-19T09:00:00', 'teams': ['Pakistan', 'New Zealand'], 'score': [{'r': 320, 'w': 5, 'o': 50, 'inning': 'New Zealand Inning 1'}, {'r': 260, 'w': 10, 'o': 47.2, 'inning': 'Pakistan Inning 1'}], 'series_id': '49fc7a37-da67-435e-bf5f-00da233e9ff4', 'fantasyEnabled': True, 'bbbEnabled': True, 'hasSquad': True, 'matchStarted': True, 'matchEnded': True}, {'id': '4f639d53-776e-4faa-b4aa-16c239529219', 'name': 'Indonesia vs Bahrain, 1st T20I', 'matchType': 't20', 'status': 'Bahrain won by 63 runs', 'venue': 'Udayana Cricket Ground, Bali', 'date': '2025-02-19', 'dateTimeGMT': '2025-02-19T00:30:00', 'teams': ['Indonesia', 'Bahrain'], 'score': [{'r': 156, 'w': 6, 'o': 20, 'inning': 'Bahrain Inning 1'}, {'r': 93, 'w': 10, 'o': 19.2, 'inning': 'Indonesia Inning 1'}], 'series_id': '4be27620-cfcc-4aca-a390-5a4dc5c1ff51', 'fantasyEnabled': True, 'bbbEnabled': True, 'hasSquad': True, 'matchStarted': True, 'matchEnded': True}, {'id': 'ba424581-23ef-4909-82bd-cab25207b788', 'name': 'Oman vs United States of America, 54th Match', 'matchType': 'odi', 'status': 'United States of America won by 57 runs', 'venue': 'Al Amerat Cricket Ground (Ministry Turf 1), Al Amerat', 'date': '2025-02-18', 'dateTimeGMT': '2025-02-18T06:00:00', 'teams': ['Oman', 'United States of America'], 'score': [{'r': 122, 'w': 10, 'o': 35.3, 'inning': 'United States of America Inning 1'}, {'r': 65, 'w': 10, 'o': 25.3, 'inning': 'Oman Inning 1'}], 'series_id': '9b836620-68cb-4798-9647-d479aa871b76', 'fantasyEnabled': True, 'bbbEnabled': True, 'hasSquad': True, 'matchStarted': True, 'matchEnded': True}, {'id': '64e18486-6151-4976-9311-61c8b1efd47f', 'name': 'UP Warriorz Women vs Delhi Capitals Women, 6th Match', 'matchType': 't20', 'status': 'Delhi Capitals Women won by 7 wkts', 'venue': 'Kotambi Stadium, Vadodara', 'date': '2025-02-19', 'dateTimeGMT': '2025-02-19T14:00:00', 'teams': ['UP Warriorz Women', 'Delhi Capitals Women'], 'score': [{'r': 166, 'w': 7, 'o': 20, 'inning': 'UP Warriorz Women Inning 1'}, {'r': 167, 'w': 3, 'o': 19.5, 'inning': 'Delhi Capitals Women Inning 1'}], 'series_id': 'bedf8bb2-7a5b-4812-bd50-2ce0a468ffb9', 'fantasyEnabled': True, 'bbbEnabled': True, 'hasSquad': True, 'matchStarted': True, 'matchEnded': True}, {'id': '14f7e249-7353-44a5-9e79-fd6caf60556d', 'name': 'Gujarat Giants Women vs Mumbai Indians Women, 5th Match', 'matchType': 't20', 'status': 'Mumbai Indians Women won by 5 wkts', 'venue': 'Kotambi Stadium, Vadodara', 'date': '2025-02-18', 'dateTimeGMT': '2025-02-18T14:00:00', 'teams': ['Gujarat Giants Women', 'Mumbai Indians Women'], 'score': [{'r': 120, 'w': 10, 'o': 20, 'inning': 'Gujarat Giants Women Inning 1'}, {'r': 122, 'w': 5, 'o': 16.1, 'inning': 'Mumbai Indians Women Inning 1'}], 'series_id': 'bedf8bb2-7a5b-4812-bd50-2ce0a468ffb9', 'fantasyEnabled': True, 'bbbEnabled': True, 'hasSquad': True, 'matchStarted': True, 'matchEnded': True}, {'id': '7aab6c41-5a94-4752-b8e9-349c8d845f3b', 'name': 'Zimbabwe vs Ireland, 3rd ODI', 'matchType': 'odi', 'status': 'Zimbabwe won by 9 wkts', 'venue': 'Harare Sports Club, Harare', 'date': '2025-02-18', 'dateTimeGMT': '2025-02-18T07:30:00', 'teams': ['Zimbabwe', 'Ireland'], 'score': [{'r': 240, 'w': 6, 'o': 50, 'inning': 'Ireland Inning 1'}, {'r': 246, 'w': 1, 'o': 39.3, 'inning': 'Zimbabwe Inning 1'}], 'series_id': '4c530671-8319-4805-b05b-665ac32d7577', 'fantasyEnabled': True, 'bbbEnabled': True, 'hasSquad': True, 'matchStarted': True, 'matchEnded': True}, {'id': '21b0262e-d15d-4808-a9e4-28cf927199c8', 'name': 'Canterbury vs Central Districts, 26th Match', 'matchType': 't20', 'status': 'No Result - due to rain', 'venue': 'Hagley Oval, Christchurch', 'date': '2025-01-26', 'dateTimeGMT': '2025-01-26T05:25:00', 'teams': ['Canterbury', 'Central Districts'], 'score': [{'r': 45, 'w': 6, 'o': 11, 'inning': 'Central Districts Inning 1'}], 'series_id': '0c19f96e-19a4-4b9e-af07-18645ab4970c', 'fantasyEnabled': True, 'bbbEnabled': True, 'hasSquad': True, 'matchStarted': True, 'matchEnded': False}, {'id': '4de664c7-f841-4b9c-8f37-cf2ce957b9ce', 'name': 'Wellington vs Auckland, 25th Match', 'matchType': 'odi', 'status': 'Wellington won by 7 wkts - 31 over game - due to rain', 'venue': 'Basin Reserve, Wellington', 'date': '2025-02-17', 'dateTimeGMT': '2025-02-17T21:30:00', 'teams': ['Wellington', 'Auckland'], 'teamInfo': [{'name': 'Auckland', 'shortname': 'AKL', 'img': 'https://g.cricapi.com/iapi/5-637993557414710285.webp?w=48'}, {'name': 'Wellington', 'shortname': 'WEL', 'img': 'https://g.cricapi.com/iapi/99-637987556014883021.webp?w=48'}], 'score': [{'r': 194, 'w': 6, 'o': 31, 'inning': 'Auckland Inning 1'}, {'r': 198, 'w': 3, 'o': 30.5, 'inning': 'Wellington Inning 1'}], 'series_id': '561215e0-b461-4a82-8cfb-c8ca6b04d3cc', 'fantasyEnabled': True, 'bbbEnabled': True, 'hasSquad': True, 'matchStarted': True, 'matchEnded': True}, {'id': 'f3de4e29-9c77-4093-9f81-ef9ab64107e1', 'name': 'Northern Knights vs Canterbury, 26th Match', 'matchType': 'odi', 'status': 'Canterbury won by 3 wkts - 39 over game - due to rain', 'venue': 'Seddon Park, Hamilton', 'date': '2025-02-17', 'dateTimeGMT': '2025-02-17T21:30:00', 'teams': ['Northern Knights', 'Canterbury'], 'teamInfo': [{'name': 'Canterbury', 'shortname': 'CAN', 'img': 'https://g.cricapi.com/iapi/15-637993523929449827.webp?w=48'}, {'name': 'Northern Knights', 'shortname': 'NK', 'img': 'https://g.cricapi.com/iapi/62-637992668006396208.webp?w=48'}], 'score': [{'r': 262, 'w': 5, 'o': 39, 'inning': 'Northern Knights Inning 1'}, {'r': 263, 'w': 7, 'o': 37.1, 'inning': 'Canterbury Inning 1'}], 'series_id': '561215e0-b461-4a82-8cfb-c8ca6b04d3cc', 'fantasyEnabled': True, 'bbbEnabled': True, 'hasSquad': True, 'matchStarted': True, 'matchEnded': True}, {'id': 'd52a4d42-c53e-4f25-b0fe-33df2282d7cc', 'name': 'Central Districts vs Otago, 27th Match', 'matchType': 'odi', 'status': 'Otago won by 5 wkts', 'venue': 'McLean Park, Napier', 'date': '2025-02-17', 'dateTimeGMT': '2025-02-17T21:30:00', 'teams': ['Central Districts', 'Otago'], 'teamInfo': [{'name': 'Central Districts', 'shortname': 'CD', 'img': 'https://g.cricapi.com/iapi/16-637993517837161031.webp?w=48'}, {'name': 'Otago', 'shortname': 'OTG', 'img': 'https://g.cricapi.com/iapi/65-637992667637799448.webp?w=48'}], 'score': [{'r': 162, 'w': 10, 'o': 45.4, 'inning': 'Central Districts Inning 1'}, {'r': 164, 'w': 5, 'o': 29.5, 'inning': 'Otago Inning 1'}], 'series_id': '561215e0-b461-4a82-8cfb-c8ca6b04d3cc', 'fantasyEnabled': True, 'bbbEnabled': True, 'hasSquad': True, 'matchStarted': True, 'matchEnded': True}, {'id': '9e2471a2-25fc-4868-a482-6ac2c1ce876b', 'name': 'Mpumalanga Rhinos vs South Western Districts, 5th Match', 'matchType': 'odi', 'status': 'Mpumalanga Rhinos won by 6 wkts', 'venue': 'Recreation Ground, Oudtshoorn', 'date': '2025-02-19', 'dateTimeGMT': '2025-02-19T08:00:00', 'teams': ['Mpumalanga Rhinos', 'South Western Districts'], 'teamInfo': [{'name': 'Mpumalanga Rhinos', 'shortname': 'MPR', 'img': 'https://g.cricapi.com/iapi/49-637991993271802283.webp?w=48'}, {'name': 'South Western Districts', 'shortname': 'SWD', 'img': 'https://g.cricapi.com/iapi/85-637993498736049006.webp?w=48'}], 'score': [{'r': 261, 'w': 7, 'o': 50, 'inning': 'South Western Districts Inning 1'}, {'r': 265, 'w': 4, 'o': 44.1, 'inning': 'Mpumalanga Rhinos Inning 1'}], 'series_id': '03532633-c83b-401a-aecb-99da710ae4fd', 'fantasyEnabled': True, 'bbbEnabled': False, 'hasSquad': True, 'matchStarted': True, 'matchEnded': True}, {'id': '9eb2fdf8-e7f0-4b71-9931-70db4d9c06f1', 'name': 'Northern Cape vs South Africa Emerging Players, 7th Match', 'matchType': 'odi', 'status': 'Northern Cape won by 5 wkts (2nd innings reduced to 36 ovs due to rain, DLS target 118)', 'venue': 'Diamond Oval, Kimberley', 'date': '2025-02-19', 'dateTimeGMT': '2025-02-19T08:00:00', 'teams': ['Northern Cape', 'South Africa Emerging Players'], 'teamInfo': [{'name': 'Northern Cape', 'shortname': 'NCAPE', 'img': 'https://g.cricapi.com/iapi/61-637991981464151764.webp?w=48'}, {'name': 'South Africa Emerging Players', 'shortname': 'SA', 'img': 'https://g.cricapi.com/iapi/273-637877069629067075.webp?w=48'}], 'score': [{'r': 131, 'w': 10, 'o': 41.1, 'inning': 'South Africa Emerging Players Inning 1'}, {'r': 119, 'w': 5, 'o': 25.5, 'inning': 'Northern Cape Inning 1'}], 'series_id': '03532633-c83b-401a-aecb-99da710ae4fd', 'fantasyEnabled': True, 'bbbEnabled': False, 'hasSquad': True, 'matchStarted': True, 'matchEnded': True}, {'id': '8173604b-c5e9-4b73-9741-7d1ec63f0f07', 'name': 'Boland vs Dolphins, 5th Match', 'matchType': 'odi', 'status': 'Innings Break', 'venue': 'Boland Park, Paarl', 'date': '2025-02-19', 'dateTimeGMT': '2025-02-19T11:00:00', 'teams': ['Boland', 'Dolphins'], 'teamInfo': [{'name': 'Boland', 'shortname': 'BL', 'img': 'https://h.cricapi.com/img/icon512.png'}, {'name': 'Dolphins', 'shortname': 'DOL', 'img': 'https://g.cricapi.com/iapi/20-637993514627926036.webp?w=48'}], 'score': [{'r': 174, 'w': 10, 'o': 49.4, 'inning': 'Dolphins Inning 1'}], 'series_id': 'c459a046-6e27-4499-8ee8-1915f783cf38', 'fantasyEnabled': True, 'bbbEnabled': False, 'hasSquad': True, 'matchStarted': True, 'matchEnded': False}, {'id': 'b5b45593-4edf-4ec4-8610-b8f4fe049831', 'name': 'Western Province vs North West, 6th Match', 'matchType': 'odi', 'status': 'Western Province won by 7 wkts', 'venue': 'Newlands, Cape Town', 'date': '2025-02-19', 'dateTimeGMT': '2025-02-19T11:00:00', 'teams': ['Western Province', 'North West'], 'teamInfo': [{'name': 'North West', 'shortname': 'NWEST', 'img': 'https://g.cricapi.com/iapi/60-637991981808951763.webp?w=48'}, {'name': 'Western Province', 'shortname': 'WPR', 'img': 'https://g.cricapi.com/iapi/104-637987555401464222.webp?w=48'}], 'score': [{'r': 145, 'w': 10, 'o': 38.2, 'inning': 'North West Inning 1'}, {'r': 146, 'w': 3, 'o': 23, 'inning': 'Western Province Inning 1'}], 'series_id': 'c459a046-6e27-4499-8ee8-1915f783cf38', 'fantasyEnabled': True, 'bbbEnabled': False, 'hasSquad': True, 'matchStarted': True, 'matchEnded': True}, {'id': '510fb5c0-8f0c-4282-8e39-7ec6ae9f24dc', 'name': 'Knights vs Warriors, 7th Match', 'matchType': 'odi', 'status': 'Rain stops play - Warriors need 241 runs', 'venue': 'Mangaung Oval, Bloemfontein', 'date': '2025-02-19', 'dateTimeGMT': '2025-02-19T11:00:00', 'teams': ['Knights', 'Warriors'], 'teamInfo': [{'name': 'Knights', 'shortname': 'KNG', 'img': 'https://g.cricapi.com/iapi/40-637992688759741358.webp?w=48'}, {'name': 'Warriors', 'shortname': 'WAR', 'img': 'https://g.cricapi.com/iapi/98-637987556857963180.webp?w=48'}], 'score': [{'r': 247, 'w': 7, 'o': 50, 'inning': 'Knights Inning 1'}, {'r': 7, 'w': 1, 'o': 5, 'inning': 'Warriors Inning 1'}], 'series_id': 'c459a046-6e27-4499-8ee8-1915f783cf38', 'fantasyEnabled': True, 'bbbEnabled': False, 'hasSquad': True, 'matchStarted': True, 'matchEnded': False}, {'id': '1878da78-34c3-4acb-a34b-030a54c7a2a7', 'name': 'South Australia vs Tasmania, 24th Match', 'matchType': 'test', 'status': 'Day 2: Stumps - South Australia lead by 264 runs', 'venue': 'Adelaide Oval, Adelaide', 'date': '2025-02-18', 'dateTimeGMT': '2025-02-18T00:00:00', 'teams': ['South Australia', 'Tasmania'], 'teamInfo': [{'name': 'South Australia', 'shortname': 'SAUS', 'img': 'https://g.cricapi.com/iapi/84-637993500332119314.webp?w=48'}, {'name': 'Tasmania', 'shortname': 'TAS', 'img': 'https://g.cricapi.com/iapi/88-637987559070396403.webp?w=48'}], 'score': [{'r': 93, 'w': 10, 'o': 47.2, 'inning': 'South Australia Inning 1'}, {'r': 101, 'w': 10, 'o': 33.4, 'inning': 'Tasmania Inning 1'}, {'r': 272, 'w': 6, 'o': 100, 'inning': 'South Australia Inning 2'}], 'series_id': '0a25b3fb-3fc9-4c22-b11b-a30defda74f2', 'fantasyEnabled': True, 'bbbEnabled': False, 'hasSquad': True, 'matchStarted': True, 'matchEnded': False}, {'id': '12a48113-4746-4a38-8ce3-c0a77364c0b4', 'name': 'Queensland vs Western Australia, 23rd Match', 'matchType': 'test', 'status': 'Day 2: Stumps - Queensland trail by 126 runs', 'venue': 'The Gabba, Brisbane', 'date': '2025-02-18', 'dateTimeGMT': '2025-02-18T00:00:00', 'teams': ['Queensland', 'Western Australia'], 'teamInfo': [{'name': 'Queensland', 'shortname': 'QL', 'img': 'https://g.cricapi.com/iapi/73-637992667453177840.webp?w=48'}, {'name': 'Western Australia', 'shortname': 'WA', 'img': 'https://g.cricapi.com/iapi/103-637987555730367982.webp?w=48'}], 'score': [{'r': 147, 'w': 10, 'o': 53.4, 'inning': 'Queensland Inning 1'}, {'r': 312, 'w': 10, 'o': 114, 'inning': 'Western Australia Inning 1'}, {'r': 39, 'w': 1, 'o': 15, 'inning': 'Queensland Inning 2'}], 'series_id': '0a25b3fb-3fc9-4c22-b11b-a30defda74f2', 'fantasyEnabled': True, 'bbbEnabled': False, 'hasSquad': True, 'matchStarted': True, 'matchEnded': False}, {'id': '4a8de14d-99df-4884-b2cb-a41320e18593', 'name': 'New South Wales vs Victoria, 22nd Match', 'matchType': 'test', 'status': 'Day 2: Stumps - New South Wales lead by 190 runs', 'venue': 'Sydney Cricket Ground, Sydney', 'date': '2025-02-17', 'dateTimeGMT': '2025-02-17T23:30:00', 'teams': ['New South Wales', 'Victoria'], 'teamInfo': [{'name': 'New South Wales', 'shortname': 'NSW', 'img': 'https://g.cricapi.com/iapi/56-637991992698313262.webp?w=48'}, {'name': 'Victoria', 'shortname': 'VIC', 'img': 'https://g.cricapi.com/iapi/96-637987557199223762.webp?w=48'}], 'score': [{'r': 238, 'w': 10, 'o': 65.2, 'inning': 'New South Wales Inning 1'}, {'r': 182, 'w': 10, 'o': 60.1, 'inning': 'Victoria Inning 1'}, {'r': 134, 'w': 4, 'o': 51, 'inning': 'New South Wales Inning 2'}], 'series_id': '0a25b3fb-3fc9-4c22-b11b-a30defda74f2', 'fantasyEnabled': True, 'bbbEnabled': False, 'hasSquad': True, 'matchStarted': True, 'matchEnded': False}, {'id': 'd16ba290-31c4-48b7-964f-bc86f4e6d53a', 'name': 'Vidarbha vs Mumbai, Semi Final 2 (QF2 v QF3)', 'matchType': 'test', 'status': 'Day 3: Stumps - Vidarbha lead by 260 runs', 'venue': 'Vidarbha Cricket Association Stadium, Nagpur', 'date': '2025-02-17', 'dateTimeGMT': '2025-02-17T04:00:00', 'teams': ['Vidarbha', 'Mumbai'], 'teamInfo': [{'name': 'Mumbai', 'shortname': 'MUM', 'img': 'https://g.cricapi.com/iapi/51-637897800490404099.png?w=48'}, {'name': 'Vidarbha', 'shortname': 'VID', 'img': 'https://g.cricapi.com/iapi/97-637897807024164117.png?w=48'}], 'score': [{'r': 383, 'w': 10, 'o': 107.5, 'inning': 'Vidarbha Inning 1'}, {'r': 270, 'w': 10, 'o': 92, 'inning': 'Mumbai Inning 1'}, {'r': 147, 'w': 4, 'o': 53, 'inning': 'Vidarbha Inning 2'}], 'series_id': '058f5196-a61e-4b77-bbb8-e87a8d57712d', 'fantasyEnabled': False, 'bbbEnabled': False, 'hasSquad': True, 'matchStarted': True, 'matchEnded': False}, {'id': 'f25667ed-ffb5-4ee1-bcc8-206bac2c51c3', 'name': 'Gujarat vs Kerala, Semi Final 1 (QF1 v QF4)', 'matchType': 'test', 'status': 'Day 3: Stumps - Gujarat trail by 235 runs', 'venue': 'Narendra Modi Stadium A Ground, Ahmedabad', 'date': '2025-02-17', 'dateTimeGMT': '2025-02-17T04:00:00', 'teams': ['Gujarat', 'Kerala'], 'teamInfo': [{'name': 'Gujarat', 'shortname': 'GUJ', 'img': 'https://g.cricapi.com/iapi/27-637897792592204662.png?w=48'}, {'name': 'Kerala', 'shortname': 'KER', 'img': 'https://g.cricapi.com/iapi/39-637897797224429950.png?w=48'}], 'score': [{'r': 457, 'w': 10, 'o': 187, 'inning': 'Kerala Inning 1'}, {'r': 222, 'w': 1, 'o': 71, 'inning': 'Gujarat Inning 1'}], 'series_id': '058f5196-a61e-4b77-bbb8-e87a8d57712d', 'fantasyEnabled': True, 'bbbEnabled': False, 'hasSquad': True, 'matchStarted': True, 'matchEnded': False}]\n"
          ]
        }
      ]
    },
    {
      "cell_type": "code",
      "source": [
        "Live_Match=x['matchEnded'==False]"
      ],
      "metadata": {
        "id": "yV-klcbH6K9D"
      },
      "execution_count": 522,
      "outputs": []
    },
    {
      "cell_type": "code",
      "source": [
        "Live_Match_Names=Live_Match['name']"
      ],
      "metadata": {
        "id": "TRxbW9CAaK0S"
      },
      "execution_count": 523,
      "outputs": []
    },
    {
      "cell_type": "code",
      "source": [
        "print(Live_Match)"
      ],
      "metadata": {
        "colab": {
          "base_uri": "https://localhost:8080/"
        },
        "id": "RX-pYBLkFQSK",
        "outputId": "e03e8adf-cbf0-4a5d-d714-34e8b50ef6db"
      },
      "execution_count": 524,
      "outputs": [
        {
          "output_type": "stream",
          "name": "stdout",
          "text": [
            "{'id': '1f0d678c-8663-45ba-a4d9-db0d7db94a42', 'name': 'Pakistan vs New Zealand, 1st Match, Group A', 'matchType': 'odi', 'status': 'New Zealand won by 60 runs', 'venue': 'National Stadium, Karachi', 'date': '2025-02-19', 'dateTimeGMT': '2025-02-19T09:00:00', 'teams': ['Pakistan', 'New Zealand'], 'score': [{'r': 320, 'w': 5, 'o': 50, 'inning': 'New Zealand Inning 1'}, {'r': 260, 'w': 10, 'o': 47.2, 'inning': 'Pakistan Inning 1'}], 'series_id': '49fc7a37-da67-435e-bf5f-00da233e9ff4', 'fantasyEnabled': True, 'bbbEnabled': True, 'hasSquad': True, 'matchStarted': True, 'matchEnded': True}\n"
          ]
        }
      ]
    },
    {
      "cell_type": "code",
      "source": [
        "print(Live_Match_Names)"
      ],
      "metadata": {
        "colab": {
          "base_uri": "https://localhost:8080/"
        },
        "id": "kHi9pkDnJTZb",
        "outputId": "eb8e03b2-6356-4d4d-e49c-0441ae7b0b72"
      },
      "execution_count": 525,
      "outputs": [
        {
          "output_type": "stream",
          "name": "stdout",
          "text": [
            "Pakistan vs New Zealand, 1st Match, Group A\n"
          ]
        }
      ]
    },
    {
      "cell_type": "markdown",
      "source": [
        "## **PROJECTED SCORE FUNCTION**"
      ],
      "metadata": {
        "id": "F9l7zW-uahjk"
      }
    },
    {
      "cell_type": "code",
      "source": [
        "sc=scorecard['data']\n",
        "match_type=sc['matchType']\n",
        "score=sc['score']\n",
        "runs=score[0]['r']\n",
        "overs=score[0]['o']\n",
        "Net_run_rate=runs/overs"
      ],
      "metadata": {
        "id": "1LbU4kzhat6u"
      },
      "execution_count": 526,
      "outputs": []
    },
    {
      "cell_type": "code",
      "source": [
        "print(sc)"
      ],
      "metadata": {
        "colab": {
          "base_uri": "https://localhost:8080/"
        },
        "id": "YaW-0x0zbU1d",
        "outputId": "fb4e7ab2-8602-456a-cf58-a53c0ca09d82"
      },
      "execution_count": 527,
      "outputs": [
        {
          "output_type": "stream",
          "name": "stdout",
          "text": [
            "{'id': '1f0d678c-8663-45ba-a4d9-db0d7db94a42', 'name': 'Pakistan vs New Zealand, 1st Match, Group A', 'matchType': 'odi', 'status': 'New Zealand won by 60 runs', 'venue': 'National Stadium, Karachi', 'date': '2025-02-19', 'dateTimeGMT': '2025-02-19T09:00:00', 'teams': ['Pakistan', 'New Zealand'], 'score': [{'r': 320, 'w': 5, 'o': 50, 'inning': 'New Zealand Inning 1'}, {'r': 260, 'w': 10, 'o': 47.2, 'inning': 'Pakistan Inning 1'}], 'tossWinner': 'Pakistan', 'tossChoice': 'bowl', 'matchWinner': 'New Zealand', 'series_id': '49fc7a37-da67-435e-bf5f-00da233e9ff4', 'scorecard': [{'batting': [{'batsman': {'id': '76f0901e-dc58-4641-a31a-f041a6b165c9', 'name': 'Will Young'}, 'dismissal': 'catch', 'bowler': {'id': 'a93dcc2b-b51a-47d1-85fc-e29d331d029d', 'name': 'Naseem Shah'}, 'catcher': {'id': '0c996751-9b83-4a46-81ac-c9d7304f58c7', 'name': 'Faheem Ashraf'}, 'dismissal-text': 'c faheem ashraf b naseem shah', 'r': 107, 'b': 113, '4s': 12, '6s': 1, 'sr': 94.69, '': 0}, {'batsman': {'id': 'eac0032b-055a-497b-9d4e-f54008414515', 'name': 'Devon Conway'}, 'dismissal': 'bowled', 'bowler': {'id': '0b2537e2-1819-42ea-8e45-f8691fd47cc6', 'name': 'Abrar Ahmed'}, 'dismissal-text': 'b abrar ahmed', 'r': 10, 'b': 17, '4s': 2, '6s': 0, 'sr': 58.82, '': 0}, {'batsman': {'id': 'a46cfa8b-96ae-4fb1-9499-65b8ce7e9634', 'name': 'Kane Williamson'}, 'dismissal': 'catch', 'bowler': {'id': 'a93dcc2b-b51a-47d1-85fc-e29d331d029d', 'name': 'Naseem Shah'}, 'catcher': {'id': '78b310fd-7403-4abf-83e4-8ac8357be790', 'name': 'Mohammad Rizwan'}, 'dismissal-text': 'c rizwan b naseem shah', 'r': 1, 'b': 2, '4s': 0, '6s': 0, 'sr': 50, '': 0}, {'batsman': {'id': 'f75212f8-37fb-4cf0-8f37-d681b4cb66b2', 'name': 'Daryl Mitchell'}, 'dismissal': 'catch', 'bowler': {'id': 'f54c649a-71a1-4f95-80d0-59e0087b4493', 'name': 'Haris Rauf'}, 'catcher': {'id': 'df7bffbc-02e6-41ef-8049-fd256c850fe8', 'name': 'Shaheen Afridi'}, 'dismissal-text': 'c shaheen afridi b haris rauf', 'r': 10, 'b': 24, '4s': 0, '6s': 0, 'sr': 41.67, '': 0}, {'batsman': {'id': '05811a99-09ae-451e-8aa5-ec8cf0fa1aab', 'name': 'Tom Latham'}, 'dismissal-text': 'not out', 'r': 118, 'b': 104, '4s': 10, '6s': 3, 'sr': 113.46, '': 0}, {'batsman': {'id': '9e6fa482-3ad3-4831-b05d-4fed2510cdf5', 'name': 'Glenn Phillips'}, 'dismissal': 'catch', 'bowler': {'id': 'f54c649a-71a1-4f95-80d0-59e0087b4493', 'name': 'Haris Rauf'}, 'catcher': {'id': '52bd987e-45af-4ced-a617-0916664f73a7', 'name': 'Fakhar Zaman'}, 'dismissal-text': 'c fakhar zaman b haris rauf', 'r': 61, 'b': 39, '4s': 3, '6s': 4, 'sr': 156.41, '': 0}, {'batsman': {'id': 'f059d7fe-16dc-4065-bcfc-51decb09e58d', 'name': 'Michael Bracewell', 'altnames': ['m bracewell']}, 'dismissal-text': 'not out', 'r': 0, 'b': 1, '4s': 0, '6s': 0, 'sr': 0, '': 0}], 'bowling': [{'bowler': {'id': 'df7bffbc-02e6-41ef-8049-fd256c850fe8', 'name': 'Shaheen Afridi'}, 'o': 10, 'm': 0, 'r': 68, 'w': 0, 'nb': 0, 'wd': 2, 'eco': 6.8}, {'bowler': {'id': 'a93dcc2b-b51a-47d1-85fc-e29d331d029d', 'name': 'Naseem Shah'}, 'o': 10, 'm': 0, 'r': 63, 'w': 2, 'nb': 0, 'wd': 0, 'eco': 6.3}, {'bowler': {'id': '0b2537e2-1819-42ea-8e45-f8691fd47cc6', 'name': 'Abrar Ahmed'}, 'o': 10, 'm': 0, 'r': 47, 'w': 1, 'nb': 0, 'wd': 1, 'eco': 4.7}, {'bowler': {'id': 'f54c649a-71a1-4f95-80d0-59e0087b4493', 'name': 'Haris Rauf'}, 'o': 10, 'm': 0, 'r': 83, 'w': 2, 'nb': 0, 'wd': 6, 'eco': 8.3}, {'bowler': {'id': '92ed0d96-e2cc-47b6-8500-4c8aa2e0468a', 'name': 'Khushdil Shah', 'altnames': ['Khushdil']}, 'o': 7, 'm': 0, 'r': 40, 'w': 0, 'nb': 0, 'wd': 0, 'eco': 5.7}, {'bowler': {'id': 'e3ad4212-a06b-4d0d-9537-c8bc285d3ed2', 'name': 'Salman Agha'}, 'o': 3, 'm': 0, 'r': 15, 'w': 0, 'nb': 0, 'wd': 0, 'eco': 5}], 'catching': [{'catcher': {'id': '0c996751-9b83-4a46-81ac-c9d7304f58c7', 'name': 'Faheem Ashraf'}, 'stumped': 0, 'runout': 0, 'catch': 1, 'cb': 0, 'lbw': 0, 'bowled': 0}, {'catcher': {'id': '78b310fd-7403-4abf-83e4-8ac8357be790', 'name': 'Mohammad Rizwan'}, 'stumped': 0, 'runout': 0, 'catch': 1, 'cb': 0, 'lbw': 0, 'bowled': 0}, {'catcher': {'id': 'df7bffbc-02e6-41ef-8049-fd256c850fe8', 'name': 'Shaheen Afridi'}, 'stumped': 0, 'runout': 0, 'catch': 1, 'cb': 0, 'lbw': 0, 'bowled': 0}, {'catcher': {'id': '52bd987e-45af-4ced-a617-0916664f73a7', 'name': 'Fakhar Zaman'}, 'stumped': 0, 'runout': 0, 'catch': 1, 'cb': 0, 'lbw': 0, 'bowled': 0}, {'stumped': 0, 'runout': 0, 'catch': 0, 'cb': 0, 'lbw': 0, 'bowled': 1, 'catcher': {'id': '0b2537e2-1819-42ea-8e45-f8691fd47cc6', 'name': 'Abrar Ahmed'}}], 'extras': {'r': 13, 'b': 0}, 'totals': {}, 'inning': 'New Zealand Inning 1'}, {'batting': [{'batsman': {'id': 'bbecd12d-62b7-41d2-874b-3832bb9626ef', 'name': 'Saud Shakeel'}, 'dismissal': 'catch', 'bowler': {'id': 'b4b5b1fa-6913-44b1-acdd-084f1f4ed66e', 'name': 'William ORourke'}, 'catcher': {'id': '36e929d1-32f1-4d41-96c2-7df1364d0bab', 'name': 'Matt Henry'}, 'dismissal-text': 'c matt henry b william orourke', 'r': 6, 'b': 19, '4s': 0, '6s': 0, 'sr': 31.58, '': 0}, {'batsman': {'id': '4ffc5d94-5a5f-4489-a09f-60e22090c810', 'name': 'Babar Azam'}, 'dismissal': 'catch', 'bowler': {'id': '16ec245b-022d-4104-bd8f-ccc780428390', 'name': 'Mitchell Santner'}, 'catcher': {'id': 'a46cfa8b-96ae-4fb1-9499-65b8ce7e9634', 'name': 'Kane Williamson'}, 'dismissal-text': 'c williamson b santner', 'r': 64, 'b': 90, '4s': 6, '6s': 1, 'sr': 71.11, '': 0}, {'batsman': {'id': '78b310fd-7403-4abf-83e4-8ac8357be790', 'name': 'Mohammad Rizwan'}, 'dismissal': 'catch', 'bowler': {'id': 'b4b5b1fa-6913-44b1-acdd-084f1f4ed66e', 'name': 'William ORourke'}, 'catcher': {'id': '9e6fa482-3ad3-4831-b05d-4fed2510cdf5', 'name': 'Glenn Phillips'}, 'dismissal-text': 'c glenn phillips b william orourke', 'r': 3, 'b': 14, '4s': 0, '6s': 0, 'sr': 21.43, '': 0}, {'batsman': {'id': '52bd987e-45af-4ced-a617-0916664f73a7', 'name': 'Fakhar Zaman'}, 'dismissal': 'bowled', 'bowler': {'id': 'f059d7fe-16dc-4065-bcfc-51decb09e58d', 'name': 'Michael Bracewell', 'altnames': ['m bracewell']}, 'dismissal-text': 'b michael bracewell', 'r': 24, 'b': 41, '4s': 4, '6s': 0, 'sr': 58.54, '': 0}, {'batsman': {'id': 'e3ad4212-a06b-4d0d-9537-c8bc285d3ed2', 'name': 'Salman Agha'}, 'dismissal': 'catch', 'bowler': {'id': '5a1ed1c2-6444-4055-a34e-6a0de31711bb', 'name': 'Nathan Smith'}, 'catcher': {'id': 'f059d7fe-16dc-4065-bcfc-51decb09e58d', 'name': 'Michael Bracewell', 'altnames': ['m bracewell']}, 'dismissal-text': 'c michael bracewell b nathan smith', 'r': 42, 'b': 28, '4s': 6, '6s': 1, 'sr': 150, '': 0}, {'batsman': {'id': '153dae3c-5c3a-46fa-8e2e-93b7d200da68', 'name': 'Tayyab Tahir'}, 'dismissal': 'catch', 'bowler': {'id': '16ec245b-022d-4104-bd8f-ccc780428390', 'name': 'Mitchell Santner'}, 'catcher': {'id': 'a46cfa8b-96ae-4fb1-9499-65b8ce7e9634', 'name': 'Kane Williamson'}, 'dismissal-text': 'c williamson b santner', 'r': 1, 'b': 5, '4s': 0, '6s': 0, 'sr': 20, '': 0}, {'batsman': {'id': '92ed0d96-e2cc-47b6-8500-4c8aa2e0468a', 'name': 'Khushdil Shah', 'altnames': ['Khushdil']}, 'dismissal': 'catch', 'bowler': {'id': 'b4b5b1fa-6913-44b1-acdd-084f1f4ed66e', 'name': 'William ORourke'}, 'catcher': {'id': 'f059d7fe-16dc-4065-bcfc-51decb09e58d', 'name': 'Michael Bracewell', 'altnames': ['m bracewell']}, 'dismissal-text': 'c michael bracewell b william orourke', 'r': 69, 'b': 49, '4s': 10, '6s': 1, 'sr': 140.82, '': 0}, {'batsman': {'id': 'df7bffbc-02e6-41ef-8049-fd256c850fe8', 'name': 'Shaheen Afridi'}, 'dismissal': 'catch', 'bowler': {'id': '36e929d1-32f1-4d41-96c2-7df1364d0bab', 'name': 'Matt Henry'}, 'catcher': {'id': '05811a99-09ae-451e-8aa5-ec8cf0fa1aab', 'name': 'Tom Latham'}, 'dismissal-text': 'c latham b matt henry', 'r': 14, 'b': 13, '4s': 0, '6s': 1, 'sr': 107.69, '': 0}, {'batsman': {'id': 'a93dcc2b-b51a-47d1-85fc-e29d331d029d', 'name': 'Naseem Shah'}, 'dismissal': 'bowled', 'bowler': {'id': '36e929d1-32f1-4d41-96c2-7df1364d0bab', 'name': 'Matt Henry'}, 'dismissal-text': 'b matt henry', 'r': 13, 'b': 15, '4s': 0, '6s': 1, 'sr': 86.67, '': 0}, {'batsman': {'id': 'f54c649a-71a1-4f95-80d0-59e0087b4493', 'name': 'Haris Rauf'}, 'dismissal': 'catch', 'bowler': {'id': '16ec245b-022d-4104-bd8f-ccc780428390', 'name': 'Mitchell Santner'}, 'catcher': {'id': 'f75212f8-37fb-4cf0-8f37-d681b4cb66b2', 'name': 'Daryl Mitchell'}, 'dismissal-text': 'c daryl mitchell b santner', 'r': 19, 'b': 10, '4s': 0, '6s': 3, 'sr': 190, '': 0}, {'batsman': {'id': '0b2537e2-1819-42ea-8e45-f8691fd47cc6', 'name': 'Abrar Ahmed'}, 'dismissal-text': 'not out', 'r': 0, 'b': 0, '4s': 0, '6s': 0, 'sr': 0, '': 0}], 'bowling': [{'bowler': {'id': '36e929d1-32f1-4d41-96c2-7df1364d0bab', 'name': 'Matt Henry'}, 'o': 7.2, 'm': 1, 'r': 25, 'w': 2, 'nb': 0, 'wd': 1, 'eco': 3.4}, {'bowler': {'id': 'b4b5b1fa-6913-44b1-acdd-084f1f4ed66e', 'name': 'William ORourke'}, 'o': 9, 'm': 0, 'r': 47, 'w': 3, 'nb': 0, 'wd': 3, 'eco': 5.2}, {'bowler': {'id': 'f059d7fe-16dc-4065-bcfc-51decb09e58d', 'name': 'Michael Bracewell', 'altnames': ['m bracewell']}, 'o': 10, 'm': 1, 'r': 38, 'w': 1, 'nb': 0, 'wd': 0, 'eco': 3.8}, {'bowler': {'id': '9e6fa482-3ad3-4831-b05d-4fed2510cdf5', 'name': 'Glenn Phillips'}, 'o': 9, 'm': 0, 'r': 63, 'w': 0, 'nb': 0, 'wd': 0, 'eco': 7}, {'bowler': {'id': '16ec245b-022d-4104-bd8f-ccc780428390', 'name': 'Mitchell Santner'}, 'o': 10, 'm': 0, 'r': 66, 'w': 3, 'nb': 0, 'wd': 0, 'eco': 6.6}, {'bowler': {'id': '5a1ed1c2-6444-4055-a34e-6a0de31711bb', 'name': 'Nathan Smith'}, 'o': 2, 'm': 0, 'r': 20, 'w': 1, 'nb': 0, 'wd': 0, 'eco': 10}], 'catching': [{'catcher': {'id': '36e929d1-32f1-4d41-96c2-7df1364d0bab', 'name': 'Matt Henry'}, 'stumped': 0, 'runout': 0, 'catch': 1, 'cb': 0, 'lbw': 0, 'bowled': 1}, {'catcher': {'id': 'a46cfa8b-96ae-4fb1-9499-65b8ce7e9634', 'name': 'Kane Williamson'}, 'stumped': 0, 'runout': 0, 'catch': 2, 'cb': 0, 'lbw': 0, 'bowled': 0}, {'catcher': {'id': '9e6fa482-3ad3-4831-b05d-4fed2510cdf5', 'name': 'Glenn Phillips'}, 'stumped': 0, 'runout': 0, 'catch': 1, 'cb': 0, 'lbw': 0, 'bowled': 0}, {'catcher': {'id': 'f059d7fe-16dc-4065-bcfc-51decb09e58d', 'name': 'Michael Bracewell', 'altnames': ['m bracewell']}, 'stumped': 0, 'runout': 0, 'catch': 2, 'cb': 0, 'lbw': 0, 'bowled': 1}, {'catcher': {'id': '05811a99-09ae-451e-8aa5-ec8cf0fa1aab', 'name': 'Tom Latham'}, 'stumped': 0, 'runout': 0, 'catch': 1, 'cb': 0, 'lbw': 0, 'bowled': 0}, {'catcher': {'id': 'f75212f8-37fb-4cf0-8f37-d681b4cb66b2', 'name': 'Daryl Mitchell'}, 'stumped': 0, 'runout': 0, 'catch': 1, 'cb': 0, 'lbw': 0, 'bowled': 0}], 'extras': {'r': 5, 'b': 0}, 'totals': {}, 'inning': 'Pakistan Inning 1'}], 'matchStarted': True, 'matchEnded': True}\n"
          ]
        }
      ]
    },
    {
      "cell_type": "code",
      "source": [
        "print(match_type)\n",
        "print(score)\n",
        "print(overs)\n",
        "print(Net_run_rate)"
      ],
      "metadata": {
        "colab": {
          "base_uri": "https://localhost:8080/"
        },
        "id": "g2IYt2qTbIdE",
        "outputId": "08579d87-975c-4d83-e902-dca76ef21bf3"
      },
      "execution_count": 528,
      "outputs": [
        {
          "output_type": "stream",
          "name": "stdout",
          "text": [
            "odi\n",
            "[{'r': 320, 'w': 5, 'o': 50, 'inning': 'New Zealand Inning 1'}, {'r': 260, 'w': 10, 'o': 47.2, 'inning': 'Pakistan Inning 1'}]\n",
            "50\n",
            "6.4\n"
          ]
        }
      ]
    },
    {
      "cell_type": "code",
      "source": [
        "def projected_score(matchType,runs,overs,Net_run_rate):\n",
        "  if matchType=='odi':\n",
        "    over_left=50-int(overs)\n",
        "    return int(runs+Net_run_rate*over_left)\n",
        "  elif matchType=='T20':\n",
        "    over_left=20-int(overs)\n",
        "    return int(runs+Net_run_rate*over_left)"
      ],
      "metadata": {
        "id": "L3f6JYnZbc9i"
      },
      "execution_count": 529,
      "outputs": []
    },
    {
      "cell_type": "markdown",
      "source": [
        "## **CONNECTING WITH LLM**"
      ],
      "metadata": {
        "id": "oy5gzJY5bei0"
      }
    },
    {
      "cell_type": "code",
      "source": [
        "import cohere\n",
        "co = cohere.Client(\"sRmFY97EVTJa7VaaaQha5oH7lScl1rxTZv8x6KrV\")"
      ],
      "metadata": {
        "id": "MIy_t3z45hya"
      },
      "execution_count": 530,
      "outputs": []
    },
    {
      "cell_type": "code",
      "source": [
        "def ask_cricket_query(query, context):\n",
        "    prompt = f\"\"\"You are an expert in cricket match analysis. Given the following match data,If User ask project score you should use {projected_score(match_type,runs,overs,Net_run_rate)} to give projected score:\n",
        "{context}\n",
        "\n",
        "Answer the following query concisely:\n",
        "{query}\n",
        "Answer:\"\"\"\n",
        "    try:\n",
        "        response = co.generate(\n",
        "            model=\"command-xlarge-nightly\",\n",
        "            prompt=prompt,\n",
        "            max_tokens=150,\n",
        "            temperature=0.5,\n",
        "            stop_sequences=[\"\\n\"]\n",
        "        )\n",
        "        answer = response.generations[0].text.strip()\n",
        "        return answer\n",
        "    except Exception as e:\n",
        "        return f\"Error while querying Cohere: {e}\""
      ],
      "metadata": {
        "id": "rd8IEX963nDg"
      },
      "execution_count": 531,
      "outputs": []
    },
    {
      "cell_type": "code",
      "source": [
        "if __name__ == \"__main__\":\n",
        "    want_live=(input('Want Live Match Details:Enter Yes or No: '))\n",
        "    print(\"matches that ar Live:\",end=\" \")\n",
        "    print(Live_Match_Names)\n",
        "    print('Matches that are not Live:',end=' ')\n",
        "    for i in Not_Live_Match_Names:\n",
        "      print(i)\n",
        "    user_query = input(\"Enter your cricket query: \")\n",
        "    if want_live=='Yes':\n",
        "      answer = ask_cricket_query(user_query,scorecard)\n",
        "    elif want_live=='No':\n",
        "      answer = ask_cricket_query(user_query,x)\n",
        "    else:\n",
        "       print(\"Enter Yes or No\")\n",
        "\n",
        "    print(\"\\nLLM Answer:\")\n",
        "    print(answer)"
      ],
      "metadata": {
        "colab": {
          "base_uri": "https://localhost:8080/"
        },
        "id": "BDdd553O3ZRO",
        "outputId": "23c5e338-69c5-4b1d-e578-768a1762c40e"
      },
      "execution_count": 542,
      "outputs": [
        {
          "output_type": "stream",
          "name": "stdout",
          "text": [
            "Want Live Match Details:Enter Yes or No: yes\n",
            "matches that ar Live: Pakistan vs New Zealand, 1st Match, Group A\n",
            "Matches that are not Live: Pakistan vs New Zealand, 1st Match, Group A\n",
            "Indonesia vs Bahrain, 1st T20I\n",
            "Oman vs United States of America, 54th Match\n",
            "UP Warriorz Women vs Delhi Capitals Women, 6th Match\n",
            "Gujarat Giants Women vs Mumbai Indians Women, 5th Match\n",
            "Zimbabwe vs Ireland, 3rd ODI\n",
            "Wellington vs Auckland, 25th Match\n",
            "Northern Knights vs Canterbury, 26th Match\n",
            "Central Districts vs Otago, 27th Match\n",
            "Mpumalanga Rhinos vs South Western Districts, 5th Match\n",
            "Northern Cape vs South Africa Emerging Players, 7th Match\n",
            "Western Province vs North West, 6th Match\n",
            "Enter your cricket query: Gujarat Giants Women vs Mumbai Indians Women who was the man of the match\n",
            "Enter Yes or No\n",
            "\n",
            "LLM Answer:\n",
            "Mumbai Indians Women\n"
          ]
        }
      ]
    }
  ]
}